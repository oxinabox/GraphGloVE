{
 "cells": [
  {
   "cell_type": "code",
   "execution_count": 1,
   "metadata": {},
   "outputs": [],
   "source": [
    "using Pkg\n",
    "pkg\"activate ..\"\n"
   ]
  },
  {
   "cell_type": "code",
   "execution_count": null,
   "metadata": {},
   "outputs": [],
   "source": [
    "using Zygote"
   ]
  },
  {
   "cell_type": "code",
   "execution_count": null,
   "metadata": {},
   "outputs": [],
   "source": [
    "function split_CV(CV)\n",
    "    #C = @view(CV[:, 1:end÷2])'\n",
    "    #V = @view(CV[:, end÷2+1:end])\n",
    "    C = (CV[:, 1:end÷2])'\n",
    "    V = (CV[:, end÷2+1:end])\n",
    "    C,V\n",
    "end\n",
    "\n",
    "\n",
    "\n",
    "loss(X)=function (CV)\n",
    "    C,V = split_CV(CV)\n",
    "    sum((C*V .- log.(X)).^2)\n",
    "end\n",
    "\n"
   ]
  },
  {
   "cell_type": "code",
   "execution_count": null,
   "metadata": {},
   "outputs": [],
   "source": [
    "n_vocab = 10\n",
    "n_dims  = 4\n",
    "\n",
    "\n",
    "X= 100rand(n_vocab, n_vocab)\n",
    "CV = zeros(n_dims, 2n_vocab);"
   ]
  },
  {
   "cell_type": "code",
   "execution_count": null,
   "metadata": {},
   "outputs": [],
   "source": [
    "Zygote.gradient(loss(X), CV)"
   ]
  },
  {
   "cell_type": "code",
   "execution_count": null,
   "metadata": {},
   "outputs": [],
   "source": []
  }
 ],
 "metadata": {
  "kernelspec": {
   "display_name": "Julia 1.0.0",
   "language": "julia",
   "name": "julia-1.0"
  },
  "language_info": {
   "file_extension": ".jl",
   "mimetype": "application/julia",
   "name": "julia",
   "version": "1.0.0"
  }
 },
 "nbformat": 4,
 "nbformat_minor": 2
}
