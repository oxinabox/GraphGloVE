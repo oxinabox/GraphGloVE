{
 "cells": [
  {
   "cell_type": "code",
   "execution_count": 1,
   "metadata": {},
   "outputs": [],
   "source": [
    "using Pkg\n",
    "pkg\"activate ..\""
   ]
  },
  {
   "cell_type": "code",
   "execution_count": 2,
   "metadata": {},
   "outputs": [
    {
     "name": "stdout",
     "output_type": "stream",
     "text": [
      "\u001b[32m\u001b[1m  Updating\u001b[22m\u001b[39m registry at `~/.julia/registries/General`\n",
      "\u001b[32m\u001b[1m  Updating\u001b[22m\u001b[39m git-repo `https://github.com/JuliaRegistries/General.git`\n",
      "\u001b[2K\u001b[?25h\u001b[32m\u001b[1m Resolving\u001b[22m\u001b[39m package versions...\n",
      "\u001b[32m\u001b[1m Installed\u001b[22m\u001b[39m BinaryProvider ─ v0.5.1\n",
      "\u001b[32m\u001b[1m Installed\u001b[22m\u001b[39m Clustering ───── v0.12.1\n",
      "\u001b[32m\u001b[1m  Updating\u001b[22m\u001b[39m `../Project.toml`\n",
      " \u001b[90m [aaaa29a8]\u001b[39m\u001b[93m ↑ Clustering v0.12.0 ⇒ v0.12.1\u001b[39m\n",
      "\u001b[32m\u001b[1m  Updating\u001b[22m\u001b[39m `../Manifest.toml`\n",
      " \u001b[90m [b99e7846]\u001b[39m\u001b[93m ↑ BinaryProvider v0.5.0 ⇒ v0.5.1\u001b[39m\n",
      " \u001b[90m [aaaa29a8]\u001b[39m\u001b[93m ↑ Clustering v0.12.0 ⇒ v0.12.1\u001b[39m\n"
     ]
    }
   ],
   "source": [
    "pkg\"add FillArrays\""
   ]
  },
  {
   "cell_type": "markdown",
   "metadata": {},
   "source": [
    "## Node2Vec biases walks:\n",
    " \n",
    " Quoting:  [node2vec paper](https://cs.stanford.edu/people/jure/pubs/node2vec-kdd16.pdf)\n",
    " section 3.2.2 Search bias\n",
    " \n",
    "The simplest way to bias our random walks would be to sample the next node based on the static edge weights $w_{vx}$ \\ie, $\\pi_{vx} = w_{vx}$. (In case of unweighted graphs $w_{vx}=1$.) However, this does not allow us to account for the network structure and guide our search procedure to explore different types of network neighborhoods. \n",
    "Additionally, unlike BFS and DFS which are extreme sampling paradigms suited for structural equivalence and homophily respectively, our random walks should accommodate for the fact that these notions of equivalence are not competing or exclusive, and real-world networks commonly exhibit a mixture of both. \n",
    "\n",
    "We define a 2$^{\\textrm{nd}}$ order random walk with two parameters $p$ and $q$ which guide the walk: Consider a random walk that just traversed edge $(t,v)$ and now resides at node $v$ . The walk now needs to decide on the next step so it evaluates the transition probabilities $\\pi_{vx}$ on edges $(v,x)$ leading from $v$. We set the unnormalized transition probability to $\\pi_{vx} = \\alpha_{pq}(t,x)\\cdot w_{vx}$, where \n",
    "\n",
    "$$\n",
    "\t\\alpha_{pq}(t,x) = \n",
    "\t\\begin{cases}\n",
    "\t\\frac{1}{p}  & \\text{if } d_{tx} = 0\\\\\n",
    "\t1 & \\text{if } d_{tx} = 1\\\\\n",
    "\t\\frac{1}{q} & \\text{if } d_{tx} = 2\n",
    "\t\\end{cases}\n",
    "$$\n",
    "\n",
    "and $d_{tx}$ denotes the shortest path distance between nodes $t$ and $x$. Note that $d_{tx}$ must be one of $\\{0,1,2\\}$, and hence, the two parameters are necessary and sufficient to guide the walk.\n"
   ]
  },
  {
   "cell_type": "code",
   "execution_count": 3,
   "metadata": {},
   "outputs": [],
   "source": [
    "using JSON\n",
    "using LightGraphs, SimpleWeightedGraphs\n",
    "using MLDataUtils\n",
    "\n",
    "using MappedArrays\n",
    "using LinearAlgebra\n",
    "using FillArrays\n",
    "using SparseArrays"
   ]
  },
  {
   "cell_type": "code",
   "execution_count": 4,
   "metadata": {},
   "outputs": [
    {
     "name": "stderr",
     "output_type": "stream",
     "text": [
      "┌ Warning: Note: adding edges to this graph type is not performant.\n",
      "└ @ SimpleWeightedGraphs /home/wheel/oxinabox/.julia/packages/SimpleWeightedGraphs/UuCCE/src/simpleweightedgraph.jl:96\n"
     ]
    },
    {
     "data": {
      "text/plain": [
       "{77, 254} undirected simple Int64 graph with Float64 weights"
      ]
     },
     "execution_count": 4,
     "metadata": {},
     "output_type": "execute_result"
    }
   ],
   "source": [
    "const data = JSON.parse(open(\"jean.json\"))\n",
    "\n",
    "const characters = LabelEnc.NativeLabels([character[\"id\"] for character in data[\"nodes\"]])\n",
    "char_id(name) = convertlabel(LabelEnc.Indices, name, characters)\n",
    "char_name(ind) = MLDataUtils.ind2label(ind, characters) # hack around https://github.com/JuliaML/MLLabelUtils.jl/issues/18\n",
    "\n",
    "const char_group = [character[\"group\"] for character in data[\"nodes\"]];\n",
    "\n",
    "const les_graph = SimpleWeightedGraph(nlabel(characters))\n",
    "for link in data[\"links\"]\n",
    "    add_edge!(les_graph,\n",
    "        char_id(link[\"source\"]),\n",
    "        char_id(link[\"target\"]),\n",
    "        link[\"value\"]\n",
    "    )\n",
    "end\n",
    "les_graph"
   ]
  },
  {
   "cell_type": "markdown",
   "metadata": {},
   "source": [
    "## Functional Form"
   ]
  },
  {
   "cell_type": "code",
   "execution_count": 56,
   "metadata": {},
   "outputs": [
    {
     "data": {
      "text/plain": [
       "α (generic function with 1 method)"
      ]
     },
     "execution_count": 56,
     "metadata": {},
     "output_type": "execute_result"
    }
   ],
   "source": [
    "function π_vx(W, t,v,x; p=1, q=1)\n",
    "    w_vx = @inbounds W[v,x]\n",
    "    π_vx = α(A, t, x; p=p, q=q) * w_vx\n",
    "end\n",
    "\n",
    "function α(W, t, x; p=1, q=1)\n",
    "    if t==x #d_tx=0\n",
    "        1/p\n",
    "    elseif @inbounds W[t,x] > 0 #d_tx=1\n",
    "        1\n",
    "    else #d_tx=2 as go t->v,v->x\n",
    "        1/q\n",
    "    end\n",
    "end"
   ]
  },
  {
   "cell_type": "markdown",
   "metadata": {},
   "source": [
    "## Generating the collocation matrix"
   ]
  },
  {
   "cell_type": "code",
   "execution_count": 89,
   "metadata": {},
   "outputs": [
    {
     "data": {
      "text/plain": [
       "cooccurance_matrix (generic function with 4 methods)"
      ]
     },
     "execution_count": 89,
     "metadata": {},
     "output_type": "execute_result"
    }
   ],
   "source": [
    "function cooccurance_matrix(W, window_size;p=1, q=1)\n",
    "    X = copy(W)\n",
    "    \n",
    "    πW1=copy(W) # First step\n",
    "    for d in 2:window_size\n",
    "        πW2=spzeros(size(W)...) # whip it\n",
    "        for (t, v, val) in zip(findnz(πW1)...)\n",
    "            for x in SparseArrays.nonzeroinds(@inbounds W[v,:])\n",
    "                @inbounds πW2[v, x] += π_vx(W, t,v,x; p=p, q=q)\n",
    "            end\n",
    "        end\n",
    "        πW1 *= πW2\n",
    "        X .+= πW1/=d # GloVE proximity weighting\n",
    "    end\n",
    "    X\n",
    "end\n",
    "    "
   ]
  },
  {
   "cell_type": "code",
   "execution_count": 90,
   "metadata": {},
   "outputs": [
    {
     "data": {
      "text/plain": [
       "prob_norm (generic function with 1 method)"
      ]
     },
     "execution_count": 90,
     "metadata": {},
     "output_type": "execute_result"
    }
   ],
   "source": [
    "prob_norm(W) = W./sum(W,dims=2)"
   ]
  },
  {
   "cell_type": "code",
   "execution_count": 96,
   "metadata": {},
   "outputs": [
    {
     "name": "stdout",
     "output_type": "stream",
     "text": [
      "  0.297579 seconds (2.18 M allocations: 107.327 MiB, 8.48% gc time)\n"
     ]
    },
    {
     "data": {
      "text/plain": [
       "77×77 SparseMatrixCSC{Float64,Int64} with 5875 stored entries:\n",
       "  [1 ,  1]  =  2588.25\n",
       "  [2 ,  1]  =  1302.84\n",
       "  [3 ,  1]  =  1653.23\n",
       "  [4 ,  1]  =  1537.17\n",
       "  [5 ,  1]  =  1302.84\n",
       "  [6 ,  1]  =  1302.84\n",
       "  [7 ,  1]  =  1302.84\n",
       "  [8 ,  1]  =  1302.84\n",
       "  [9 ,  1]  =  1302.84\n",
       "  [10,  1]  =  1302.84\n",
       "  [11,  1]  =  324.117\n",
       "  [12,  1]  =  289.983\n",
       "  ⋮\n",
       "  [66, 77]  =  101.028\n",
       "  [67, 77]  =  103.586\n",
       "  [68, 77]  =  77.966\n",
       "  [69, 77]  =  18.2692\n",
       "  [70, 77]  =  18.1322\n",
       "  [71, 77]  =  18.9874\n",
       "  [72, 77]  =  22.6258\n",
       "  [73, 77]  =  21.4899\n",
       "  [74, 77]  =  80.2723\n",
       "  [75, 77]  =  80.2723\n",
       "  [76, 77]  =  20.6658\n",
       "  [77, 77]  =  104.02"
      ]
     },
     "execution_count": 96,
     "metadata": {},
     "output_type": "execute_result"
    }
   ],
   "source": [
    "W = prob_norm(weights(les_graph))\n",
    "\n",
    "@time cooccurance_matrix(W,4)"
   ]
  },
  {
   "cell_type": "code",
   "execution_count": 75,
   "metadata": {},
   "outputs": [
    {
     "data": {
      "text/html": [
       "3 methods for generic function <b>nonzeros</b>:<ul><li> nonzeros(S::<b>SparseMatrixCSC</b>) in SparseArrays at <a href=\"file:///buildworker/worker/package_linux64/build/usr/share/julia/stdlib/v0.7/SparseArrays/src/sparsematrix.jl\" target=\"_blank\">/buildworker/worker/package_linux64/build/usr/share/julia/stdlib/v0.7/SparseArrays/src/sparsematrix.jl:101</a></li> <li> nonzeros(x::<b>SparseVector</b>) in SparseArrays at <a href=\"file:///buildworker/worker/package_linux64/build/usr/share/julia/stdlib/v0.7/SparseArrays/src/sparsevector.jl\" target=\"_blank\">/buildworker/worker/package_linux64/build/usr/share/julia/stdlib/v0.7/SparseArrays/src/sparsevector.jl:45</a></li> <li> nonzeros(x::<b>SubArray{T,1,#s565,Tuple{Base.Slice{Base.OneTo{Int64}},Int64},false} where #s565<:SparseMatrixCSC where T</b>) in SparseArrays at <a href=\"file:///buildworker/worker/package_linux64/build/usr/share/julia/stdlib/v0.7/SparseArrays/src/sparsevector.jl\" target=\"_blank\">/buildworker/worker/package_linux64/build/usr/share/julia/stdlib/v0.7/SparseArrays/src/sparsevector.jl:47</a></li> </ul>"
      ],
      "text/plain": [
       "# 3 methods for generic function \"nonzeros\":\n",
       "[1] nonzeros(S::SparseMatrixCSC) in SparseArrays at /buildworker/worker/package_linux64/build/usr/share/julia/stdlib/v0.7/SparseArrays/src/sparsematrix.jl:101\n",
       "[2] nonzeros(x::SparseVector) in SparseArrays at /buildworker/worker/package_linux64/build/usr/share/julia/stdlib/v0.7/SparseArrays/src/sparsevector.jl:45\n",
       "[3] nonzeros(x::SubArray{T,1,#s565,Tuple{Base.Slice{Base.OneTo{Int64}},Int64},false} where #s565<:SparseMatrixCSC where T) in SparseArrays at /buildworker/worker/package_linux64/build/usr/share/julia/stdlib/v0.7/SparseArrays/src/sparsevector.jl:47"
      ]
     },
     "execution_count": 75,
     "metadata": {},
     "output_type": "execute_result"
    }
   ],
   "source": [
    " |> methods"
   ]
  },
  {
   "cell_type": "code",
   "execution_count": null,
   "metadata": {},
   "outputs": [],
   "source": []
  }
 ],
 "metadata": {
  "kernelspec": {
   "display_name": "Julia 0.7.0",
   "language": "julia",
   "name": "julia-0.7"
  },
  "language_info": {
   "file_extension": ".jl",
   "mimetype": "application/julia",
   "name": "julia",
   "version": "0.7.0"
  }
 },
 "nbformat": 4,
 "nbformat_minor": 2
}
