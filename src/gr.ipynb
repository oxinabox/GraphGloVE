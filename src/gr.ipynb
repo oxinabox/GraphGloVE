{
 "cells": [
  {
   "cell_type": "code",
   "execution_count": null,
   "metadata": {},
   "outputs": [
    {
     "name": "stderr",
     "output_type": "stream",
     "text": [
      "┌ Info: Precompiling Revise [295af30f-e4ad-537b-8983-00126c2a3abe]\n",
      "└ @ Base loading.jl:1186\n"
     ]
    }
   ],
   "source": [
    "using Pkg\n",
    "#pkg\"activate ..\"\n"
   ]
  },
  {
   "cell_type": "code",
   "execution_count": 21,
   "metadata": {},
   "outputs": [],
   "source": [
    "using Zygote\n",
    "using Optim"
   ]
  },
  {
   "cell_type": "code",
   "execution_count": 22,
   "metadata": {},
   "outputs": [
    {
     "data": {
      "text/plain": [
       "loss (generic function with 1 method)"
      ]
     },
     "execution_count": 22,
     "metadata": {},
     "output_type": "execute_result"
    }
   ],
   "source": [
    "\n",
    "\n",
    "function split_CV(CV)\n",
    "    C = @view(CV[:, 1:end÷2])'\n",
    "    V = @view(CV[:, end÷2+1:end])\n",
    "    C,V\n",
    "end\n",
    "\n",
    "const xmax = 100\n",
    "const α = 2/3\n",
    "\n",
    "f(x) = x < xmax ? (x/xmax)^α : 1.0\n",
    "\n",
    "loss(X)=function (CV)\n",
    "    C,V = split_CV(CV)\n",
    "    sum(f.(X) * (C*V .- log.(X)).^2)\n",
    "end\n",
    "\n"
   ]
  },
  {
   "cell_type": "code",
   "execution_count": 24,
   "metadata": {},
   "outputs": [],
   "source": [
    "n_vocab = 80\n",
    "n_dims  = 16\n",
    "\n",
    "\n",
    "X= 100rand(n_vocab, n_vocab)\n",
    "CV = zeros(n_dims, 2n_vocab);"
   ]
  },
  {
   "cell_type": "code",
   "execution_count": null,
   "metadata": {},
   "outputs": [],
   "source": [
    "Zygote.gradient(loss(X), CV)"
   ]
  },
  {
   "cell_type": "code",
   "execution_count": null,
   "metadata": {},
   "outputs": [],
   "source": []
  }
 ],
 "metadata": {
  "kernelspec": {
   "display_name": "Julia 1.0.0",
   "language": "julia",
   "name": "julia-1.0"
  },
  "language_info": {
   "file_extension": ".jl",
   "mimetype": "application/julia",
   "name": "julia",
   "version": "1.0.0"
  }
 },
 "nbformat": 4,
 "nbformat_minor": 2
}
