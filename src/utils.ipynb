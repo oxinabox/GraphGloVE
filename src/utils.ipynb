{
 "cells": [
  {
   "cell_type": "code",
   "execution_count": 1,
   "metadata": {},
   "outputs": [],
   "source": [
    "using Pkg\n",
    "pkg\"activate ..\""
   ]
  },
  {
   "cell_type": "markdown",
   "metadata": {},
   "source": [
    "# Sparse Math\n",
    "\n",
    "See https://github.com/JuliaLang/julia/issues/29535"
   ]
  },
  {
   "cell_type": "code",
   "execution_count": 39,
   "metadata": {},
   "outputs": [
    {
     "data": {
      "text/plain": [
       "column_vecmul! (generic function with 3 methods)"
      ]
     },
     "execution_count": 39,
     "metadata": {},
     "output_type": "execute_result"
    }
   ],
   "source": [
    "using SparseArrays\n",
    "\n",
    "column_vecmul(A, x) = column_vecmul(A, @view(X[:]))\n",
    "\n",
    "function column_vecmul!(A::AbstractMatrix, x::AbstractArray)\n",
    "    A.=A.*x\n",
    "end\n",
    "    \n",
    "function column_vecmul!(A::SparseMatrixCSC, x::AbstractVector{T}) where T\n",
    "    size(A,2)==length(x) || DimensionMismatch()\n",
    "    cols, rows, vals = findnz(A);\n",
    "    \n",
    "    x_ii=1\n",
    "    x_val = @inbounds x[x_ii]\n",
    "    rows_to_nan = Int64[]\n",
    "    for A_ii in 1:length(rows)\n",
    "        col= @inbounds cols[A_ii]\n",
    "        row= @inbounds rows[A_ii]\n",
    "        if row > x_ii #Note that our result is row sorted\n",
    "            x_ii+=1\n",
    "            x_val = @inbounds x[x_ii]\n",
    "            if !isfinite(x_val) \n",
    "                # Got to deal with this later, row will become dense.\n",
    "                push!(rows_to_nan, row)\n",
    "            end\n",
    "        end\n",
    "        @inbounds vals[A_ii]*=x_val\n",
    "    end\n",
    "\n",
    "    # Go back and NaN any rows we have to\n",
    "    for row in rows_to_nan\n",
    "        for col in SparseArrays.nonzeroinds(@view(A[:,row]))\n",
    "            # don't do the ones we already hit as they may be Inf (or NaN)\n",
    "            @inbounds A[row,col] = T(NaN)\n",
    "        end\n",
    "    end\n",
    "    \n",
    "    A\n",
    "end"
   ]
  },
  {
   "cell_type": "markdown",
   "metadata": {},
   "source": [
    "# Graph Helpers\n",
    "These are helper functions for working with graphs"
   ]
  },
  {
   "cell_type": "code",
   "execution_count": 27,
   "metadata": {},
   "outputs": [],
   "source": [
    "using LightGraphs\n",
    "using SimpleWeightedGraphs\n",
    "using GraphPlot"
   ]
  },
  {
   "cell_type": "markdown",
   "metadata": {},
   "source": [
    "## Converters"
   ]
  },
  {
   "cell_type": "code",
   "execution_count": 10,
   "metadata": {},
   "outputs": [],
   "source": [
    "Base.convert(::Type{SimpleGraph}, graph::AbstractSimpleWeightedGraph) = SimpleGraph(adjacency_matrix(graph))"
   ]
  },
  {
   "cell_type": "markdown",
   "metadata": {},
   "source": [
    "## Weight Normalisers\n"
   ]
  },
  {
   "cell_type": "code",
   "execution_count": 38,
   "metadata": {},
   "outputs": [
    {
     "data": {
      "text/plain": [
       "prob_norm! (generic function with 1 method)"
      ]
     },
     "execution_count": 38,
     "metadata": {},
     "output_type": "execute_result"
    }
   ],
   "source": [
    "prob_norm(W) = W./sum(W,dims=2)\n",
    "\n",
    "prob_norm!(W) = column_vecmul!(W, 1 ./ sum(W,dims=2))"
   ]
  },
  {
   "cell_type": "markdown",
   "metadata": {},
   "source": [
    "### Plotting"
   ]
  },
  {
   "cell_type": "markdown",
   "metadata": {},
   "source": [
    "gplot is missing WeightedGraph overloads"
   ]
  },
  {
   "cell_type": "code",
   "execution_count": 31,
   "metadata": {},
   "outputs": [],
   "source": [
    "function GraphPlot.gplot(graph::AbstractSimpleWeightedGraph, args...; kwargs...)\n",
    "    gplot(\n",
    "        convert(SimpleGraph, graph),\n",
    "        args...;\n",
    "        kwargs...\n",
    "    )\n",
    "end"
   ]
  },
  {
   "cell_type": "markdown",
   "metadata": {},
   "source": [
    "#### Goodplot\n",
    "Plotting with sensible defaults\n",
    "\n",
    " - `node_scale`: set to control the overall size of the nodes. default 1.0\n",
    " - `node_scaling`: set to control size varience of the nodes based on degreee. default 3.0, lower means more variance"
   ]
  },
  {
   "cell_type": "code",
   "execution_count": 34,
   "metadata": {},
   "outputs": [
    {
     "data": {
      "text/plain": [
       "goodplot (generic function with 1 method)"
      ]
     },
     "execution_count": 34,
     "metadata": {},
     "output_type": "execute_result"
    }
   ],
   "source": [
    "function goodplot(graph, args...; node_scale=1, node_scaling=3, kwargs...)\n",
    "   gplot(graph, args...; kwargs...,\n",
    "   nodesize = log.(degree(graph).+node_scaling),\n",
    "   NODESIZE= node_scale * 0.15*(3.0/sqrt(length(vertices(graph))))\n",
    ") \n",
    "end"
   ]
  },
  {
   "cell_type": "markdown",
   "metadata": {},
   "source": [
    "# Clustering Helpers"
   ]
  },
  {
   "cell_type": "code",
   "execution_count": 12,
   "metadata": {},
   "outputs": [
    {
     "name": "stderr",
     "output_type": "stream",
     "text": [
      "WARNING: using Clustering.varinfo in module Main conflicts with an existing identifier.\n"
     ]
    }
   ],
   "source": [
    "using Clustering"
   ]
  },
  {
   "cell_type": "markdown",
   "metadata": {},
   "source": [
    "#### Show Clusters\n",
    " - `showfn`: function `id->texttoprint`\n",
    " - `res`: ClusteringResults"
   ]
  },
  {
   "cell_type": "code",
   "execution_count": 17,
   "metadata": {},
   "outputs": [
    {
     "data": {
      "text/plain": [
       "show_cluster (generic function with 2 methods)"
      ]
     },
     "execution_count": 17,
     "metadata": {},
     "output_type": "execute_result"
    }
   ],
   "source": [
    "show_cluster(res) = show_cluster(string,res)\n",
    "function show_cluster(showfn, res)\n",
    "    for cluster in unique(assignments(res))\n",
    "        for id in 1:nlabel(characters)\n",
    "            if assignments(res)[id]==cluster\n",
    "                println(showfn(id)...)\n",
    "            end\n",
    "        end\n",
    "        println(\"-------------------------------\")\n",
    "    end\n",
    "end"
   ]
  },
  {
   "cell_type": "markdown",
   "metadata": {},
   "source": [
    "#### Color Clusters\n",
    "Returns a good color set for clusters,\n",
    "1 color per element"
   ]
  },
  {
   "cell_type": "code",
   "execution_count": 25,
   "metadata": {},
   "outputs": [
    {
     "data": {
      "text/plain": [
       "color_clusters (generic function with 3 methods)"
      ]
     },
     "execution_count": 25,
     "metadata": {},
     "output_type": "execute_result"
    }
   ],
   "source": [
    "using Colors\n",
    "function color_clusters(clustering_res::ClusteringResult)\n",
    "    colors = distinguishable_colors(nclusters(clustering_res), colorant\"blue\")\n",
    "    [colors[assign] for assign in assignments(clustering_res)]\n",
    "end\n",
    "\n",
    "function color_clusters(assignments::AbstractVector)\n",
    "    nclusters = length(unique(assignments))\n",
    "    colors = distinguishable_colors(nclusters, colorant\"blue\")\n",
    "    [colors[assign] for assign in assignments]\n",
    "end"
   ]
  },
  {
   "cell_type": "code",
   "execution_count": null,
   "metadata": {},
   "outputs": [],
   "source": []
  }
 ],
 "metadata": {
  "kernelspec": {
   "display_name": "Julia 0.7.0",
   "language": "julia",
   "name": "julia-0.7"
  },
  "language_info": {
   "file_extension": ".jl",
   "mimetype": "application/julia",
   "name": "julia",
   "version": "0.7.0"
  }
 },
 "nbformat": 4,
 "nbformat_minor": 2
}
