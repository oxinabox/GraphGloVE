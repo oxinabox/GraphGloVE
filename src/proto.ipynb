{
 "cells": [
  {
   "cell_type": "markdown",
   "metadata": {},
   "source": [
    "# We are going to look at making the GloVE based version of Node2Vec\n",
    "\n",
    "This is the GloVE as node2vec is to word2vec.\n",
    "\n",
    "Papers:\n",
    "\n",
    " - [GloVE](http://www.aclweb.org/anthology/D14-1162)\n",
    " - [node2vec](https://cs.stanford.edu/people/jure/pubs/node2vec-kdd16.pdf)"
   ]
  },
  {
   "cell_type": "code",
   "execution_count": null,
   "metadata": {},
   "outputs": [],
   "source": [
    "using Pkg\n",
    "pkg\"activate ..\""
   ]
  },
  {
   "cell_type": "code",
   "execution_count": 2,
   "metadata": {},
   "outputs": [],
   "source": [
    "#pkg\"add LinearAlgebra\""
   ]
  },
  {
   "cell_type": "markdown",
   "metadata": {},
   "source": [
    "# Loading Data\n",
    "\n",
    "Les Mis, from Knuth\n",
    "\n"
   ]
  },
  {
   "cell_type": "markdown",
   "metadata": {},
   "source": [
    "We will use:\n",
    "\n",
    " - the **JSON** package for loading the dat.\n",
    " - **LightGraphs** with its **SimpleWeightedGraph**  component for representing it as a graph\n",
    " - **MLDataUtils** to convert the node labels between text and node id"
   ]
  },
  {
   "cell_type": "code",
   "execution_count": 3,
   "metadata": {},
   "outputs": [],
   "source": [
    "using JSON\n",
    "using LightGraphs, SimpleWeightedGraphs\n",
    "using MLDataUtils"
   ]
  },
  {
   "cell_type": "markdown",
   "metadata": {},
   "source": [
    "First we load the raw JSON"
   ]
  },
  {
   "cell_type": "code",
   "execution_count": 4,
   "metadata": {},
   "outputs": [
    {
     "data": {
      "text/plain": [
       "Dict{String,Any} with 2 entries:\n",
       "  \"nodes\" => Any[Dict{String,Any}(\"id\"=>\"Myriel\",\"group\"=>1), Dict{String,Any}(…\n",
       "  \"links\" => Any[Dict{String,Any}(\"source\"=>\"Napoleon\",\"target\"=>\"Myriel\",\"valu…"
      ]
     },
     "execution_count": 4,
     "metadata": {},
     "output_type": "execute_result"
    }
   ],
   "source": [
    "const data = JSON.parse(open(\"jean.json\"))"
   ]
  },
  {
   "cell_type": "markdown",
   "metadata": {},
   "source": [
    "We'll define helper function to change between name and id"
   ]
  },
  {
   "cell_type": "code",
   "execution_count": 185,
   "metadata": {},
   "outputs": [
    {
     "name": "stderr",
     "output_type": "stream",
     "text": [
      "WARNING: redefining constant characters\n",
      "WARNING: redefining constant char_group\n"
     ]
    }
   ],
   "source": [
    "const characters = LabelEnc.NativeLabels([character[\"id\"] for character in data[\"nodes\"]])\n",
    "char_id(name) = convertlabel(LabelEnc.Indices, name, characters)\n",
    "char_name(ind) = MLDataUtils.ind2label(ind, characters) # hack around https://github.com/JuliaML/MLLabelUtils.jl/issues/18\n",
    "\n",
    "const char_group = [character[\"group\"] for character in data[\"nodes\"]];"
   ]
  },
  {
   "cell_type": "markdown",
   "metadata": {},
   "source": [
    "Now we will load it up into a graph.\n",
    "It is a weighted, undirectional graph"
   ]
  },
  {
   "cell_type": "code",
   "execution_count": 6,
   "metadata": {},
   "outputs": [
    {
     "name": "stderr",
     "output_type": "stream",
     "text": [
      "┌ Warning: Note: adding edges to this graph type is not performant.\n",
      "└ @ SimpleWeightedGraphs /home/wheel/oxinabox/.julia/packages/SimpleWeightedGraphs/UuCCE/src/simpleweightedgraph.jl:96\n"
     ]
    },
    {
     "data": {
      "text/plain": [
       "{77, 254} undirected simple Int64 graph with Float64 weights"
      ]
     },
     "execution_count": 6,
     "metadata": {},
     "output_type": "execute_result"
    }
   ],
   "source": [
    "const les_graph = SimpleWeightedGraph(nlabel(characters))\n",
    "for link in data[\"links\"]\n",
    "    add_edge!(les_graph,\n",
    "        char_id(link[\"source\"]),\n",
    "        char_id(link[\"target\"]),\n",
    "        link[\"value\"]\n",
    "    )\n",
    "end\n",
    "les_graph"
   ]
  },
  {
   "cell_type": "markdown",
   "metadata": {},
   "source": [
    "We can look at the weighter graph"
   ]
  },
  {
   "cell_type": "code",
   "execution_count": 10,
   "metadata": {},
   "outputs": [
    {
     "data": {
      "text/plain": [
       "77×77 Array{Float64,2}:\n",
       "  0.0  1.0  8.0  10.0  1.0  1.0  1.0  …  0.0  0.0  0.0  0.0  0.0  0.0  0.0\n",
       "  1.0  0.0  0.0   0.0  0.0  0.0  0.0     0.0  0.0  0.0  0.0  0.0  0.0  0.0\n",
       "  8.0  0.0  0.0   6.0  0.0  0.0  0.0     0.0  0.0  0.0  0.0  0.0  0.0  0.0\n",
       " 10.0  0.0  6.0   0.0  0.0  0.0  0.0     0.0  0.0  0.0  0.0  0.0  0.0  0.0\n",
       "  1.0  0.0  0.0   0.0  0.0  0.0  0.0     0.0  0.0  0.0  0.0  0.0  0.0  0.0\n",
       "  1.0  0.0  0.0   0.0  0.0  0.0  0.0  …  0.0  0.0  0.0  0.0  0.0  0.0  0.0\n",
       "  1.0  0.0  0.0   0.0  0.0  0.0  0.0     0.0  0.0  0.0  0.0  0.0  0.0  0.0\n",
       "  1.0  0.0  0.0   0.0  0.0  0.0  0.0     0.0  0.0  0.0  0.0  0.0  0.0  0.0\n",
       "  2.0  0.0  0.0   0.0  0.0  0.0  0.0     0.0  0.0  0.0  0.0  0.0  0.0  0.0\n",
       "  1.0  0.0  0.0   0.0  0.0  0.0  0.0     0.0  0.0  0.0  0.0  0.0  0.0  0.0\n",
       "  0.0  0.0  0.0   0.0  0.0  0.0  0.0  …  0.0  0.0  0.0  0.0  0.0  0.0  0.0\n",
       "  5.0  0.0  3.0   3.0  0.0  0.0  0.0     1.0  1.0  1.0  0.0  0.0  0.0  0.0\n",
       "  0.0  0.0  0.0   0.0  0.0  0.0  0.0     0.0  0.0  0.0  0.0  0.0  0.0  0.0\n",
       "  ⋮                         ⋮         ⋱  ⋮                        ⋮       \n",
       "  0.0  0.0  0.0   0.0  0.0  0.0  0.0  …  0.0  0.0  0.0  0.0  0.0  0.0  1.0\n",
       "  0.0  0.0  0.0   0.0  0.0  0.0  0.0     0.0  0.0  0.0  0.0  0.0  0.0  1.0\n",
       "  0.0  0.0  0.0   0.0  0.0  0.0  0.0     0.0  0.0  0.0  0.0  0.0  0.0  0.0\n",
       "  0.0  0.0  0.0   0.0  0.0  0.0  0.0     4.0  2.0  0.0  0.0  0.0  3.0  0.0\n",
       "  0.0  0.0  0.0   0.0  0.0  0.0  0.0     4.0  2.0  0.0  0.0  0.0  3.0  0.0\n",
       "  0.0  0.0  0.0   0.0  0.0  0.0  0.0  …  0.0  2.0  0.0  0.0  0.0  1.0  0.0\n",
       "  0.0  0.0  0.0   0.0  0.0  0.0  0.0     2.0  0.0  0.0  0.0  0.0  1.0  0.0\n",
       "  0.0  0.0  0.0   0.0  0.0  0.0  0.0     0.0  0.0  0.0  0.0  0.0  0.0  0.0\n",
       "  0.0  0.0  0.0   0.0  0.0  0.0  0.0     0.0  0.0  0.0  0.0  3.0  0.0  0.0\n",
       "  0.0  0.0  0.0   0.0  0.0  0.0  0.0     0.0  0.0  0.0  3.0  0.0  0.0  0.0\n",
       "  0.0  0.0  0.0   0.0  0.0  0.0  0.0  …  1.0  1.0  0.0  0.0  0.0  0.0  0.0\n",
       "  0.0  0.0  0.0   0.0  0.0  0.0  0.0     0.0  0.0  0.0  0.0  0.0  0.0  0.0"
      ]
     },
     "execution_count": 10,
     "metadata": {},
     "output_type": "execute_result"
    }
   ],
   "source": [
    "collect(weights(les_graph))"
   ]
  },
  {
   "cell_type": "markdown",
   "metadata": {},
   "source": [
    "# Now we want to avoid taking random walks\n",
    "\n",
    "Node2Vec takes random walks, to get sequences of word(nodes), which it feeds to word2vec.\n",
    "\n",
    "Instread we want to get a matrix that corresponds to the co-occurrencee matrix in GloVE.\n",
    "Which has elements that are weighted counts of how often words(nodes) occur in the same window.\n",
    "\n"
   ]
  },
  {
   "cell_type": "markdown",
   "metadata": {},
   "source": [
    "$A$ is the adjancency matrix.\n",
    "Nodes directly connected to neighbours"
   ]
  },
  {
   "cell_type": "code",
   "execution_count": 12,
   "metadata": {},
   "outputs": [
    {
     "data": {
      "text/plain": [
       "77×77 SparseArrays.SparseMatrixCSC{Int64,Int64} with 508 stored entries:\n",
       "  [2 ,  1]  =  1\n",
       "  [3 ,  1]  =  1\n",
       "  [4 ,  1]  =  1\n",
       "  [5 ,  1]  =  1\n",
       "  [6 ,  1]  =  1\n",
       "  [7 ,  1]  =  1\n",
       "  [8 ,  1]  =  1\n",
       "  [9 ,  1]  =  1\n",
       "  [10,  1]  =  1\n",
       "  [12,  1]  =  1\n",
       "  [1 ,  2]  =  1\n",
       "  [1 ,  3]  =  1\n",
       "  ⋮\n",
       "  [49, 76]  =  1\n",
       "  [69, 76]  =  1\n",
       "  [70, 76]  =  1\n",
       "  [71, 76]  =  1\n",
       "  [72, 76]  =  1\n",
       "  [49, 77]  =  1\n",
       "  [59, 77]  =  1\n",
       "  [63, 77]  =  1\n",
       "  [64, 77]  =  1\n",
       "  [65, 77]  =  1\n",
       "  [66, 77]  =  1\n",
       "  [67, 77]  =  1"
      ]
     },
     "execution_count": 12,
     "metadata": {},
     "output_type": "execute_result"
    }
   ],
   "source": [
    "A  = adjacency_matrix(les_graph)"
   ]
  },
  {
   "cell_type": "markdown",
   "metadata": {},
   "source": [
    "We need to get a co-occurrence matrix $X$,\n",
    "which has entries given by the count of how often each node occurred in the context of another node.\n",
    "Where context is determined by window size.\n",
    "\n",
    "Graph theory tells us for nodes, $i$ and $j$\n",
    " - $A_{ij}$ is there a connection between node $i$ and node $j$\n",
    " - $(A^2)_{ij}$ number of walks of length 2 from node $i$ to node $j$\n",
    " - $(A^n)_{ij}$ number of walks of length n from node $i$ to node $j$\n",
    " \n",
    " \n",
    "GLoVE uses decreasing weighting such that words $d$ apart contribute $\\frac{1}{d}$ to the coocurance count  (GloVE paper section 4.2).\n",
    "\n",
    "\n",
    "Thus for window size $N$,\n",
    "\n",
    "$$\n",
    "X = \\sum_{n=1}^{n=N}   \\frac{A^n}{n}\n",
    "$$\n",
    "\n",
    "\n",
    "This (I believe) extends intutitively and without change to:\n",
    " - using a **weight** matrix instread of an **adjancency** matrix.\n",
    " - Or to using a directed graph, via **asymetrical** adjancency matrix\n",
    " - Or both.\n",
    "Normalization may be required.\n",
    "\n",
    "\n",
    " "
   ]
  },
  {
   "cell_type": "code",
   "execution_count": 13,
   "metadata": {},
   "outputs": [
    {
     "data": {
      "text/plain": [
       "cooccurance_matrix (generic function with 1 method)"
      ]
     },
     "execution_count": 13,
     "metadata": {},
     "output_type": "execute_result"
    }
   ],
   "source": [
    "function cooccurance_matrix(A, window_size)\n",
    "    X = Float32.(A)\n",
    "    Ap = A\n",
    "    \n",
    "    for n in 2 : window_size\n",
    "        Ap *= A\n",
    "        X .+= Ap./n\n",
    "    end\n",
    "    X\n",
    "end"
   ]
  },
  {
   "cell_type": "markdown",
   "metadata": {},
   "source": [
    "The downside of this method is that it is fairly expensive.\n",
    "Matrix multiplication of a matrix with average $k$ nonzero elements\n",
    "is (slightly better in theory, but roughly) $O(k^3)$.\n",
    "\n",
    "Thus for window size $N$,\n",
    "that the calculation of the cooccurance matrix is\n",
    "$O(nk^3)$\n",
    "\n",
    "Not also that sparsity doesn't help as much as we would like,\n",
    "and each successive matrix multiplication is less sparse."
   ]
  },
  {
   "cell_type": "code",
   "execution_count": 16,
   "metadata": {},
   "outputs": [
    {
     "name": "stdout",
     "output_type": "stream",
     "text": [
      "  0.998871 seconds (1.47 M allocations: 71.474 MiB, 4.54% gc time)\n"
     ]
    },
    {
     "data": {
      "text/plain": [
       "77×77 Array{Float32,2}:\n",
       " 127.65    34.8333  115.017   115.017   …   38.4833   206.0      137.85 \n",
       "  34.8333   4.2      18.0667   18.0667       2.45      14.3        8.15 \n",
       " 115.017   18.0667   91.95     92.7333      37.0833   197.6      133.65 \n",
       " 115.017   18.0667   92.7333   91.95        37.0833   197.6      133.65 \n",
       "  34.8333   4.2      18.0667   18.0667       2.45      14.3        8.15 \n",
       "  34.8333   4.2      18.0667   18.0667  …    2.45      14.3        8.15 \n",
       "  34.8333   4.2      18.0667   18.0667       2.45      14.3        8.15 \n",
       "  34.8333   4.2      18.0667   18.0667       2.45      14.3        8.15 \n",
       "  34.8333   4.2      18.0667   18.0667       2.45      14.3        8.15 \n",
       "  34.8333   4.2      18.0667   18.0667       2.45      14.3        8.15 \n",
       "  62.1167  10.2333   58.9667   58.9667  …   32.1833   169.0      117.35 \n",
       " 765.967   62.1167  697.483   697.483      380.1     1853.23    1518.18 \n",
       "  87.05    12.0833   82.5      82.5         39.9333   225.883    139.45 \n",
       "   ⋮                                    ⋱               ⋮               \n",
       " 211.333   13.0     205.733   205.733   …  377.2      915.117   2107.68 \n",
       " 170.2     10.35    166.0     166.0        319.033    751.95    1796.18 \n",
       "  12.6      0.8      12.6      12.6         28.1833    68.5167   157.45 \n",
       " 320.05    29.5833  307.1     307.1        225.783   1242.97     800.367\n",
       " 320.05    29.5833  307.1     307.1        225.783   1242.97     800.367\n",
       " 312.9     28.9833  299.95    299.95    …  220.517   1201.23     783.617\n",
       " 292.717   27.7333  281.167   281.167      213.133   1148.95     766.067\n",
       " 126.983   16.3333  121.033   121.033       66.6667   370.033    233.217\n",
       "  38.4833   2.45     37.0833   37.0833      51.35     160.767    238.633\n",
       "  38.4833   2.45     37.0833   37.0833      50.5667   160.767    238.633\n",
       " 206.0     14.3     197.6     197.6     …  160.767    865.167    583.3  \n",
       " 137.85     8.15    133.65    133.65       238.633    583.3     1330.05 "
      ]
     },
     "execution_count": 16,
     "metadata": {},
     "output_type": "execute_result"
    }
   ],
   "source": [
    "@time X = cooccurance_matrix(collect(A), 5)"
   ]
  },
  {
   "cell_type": "markdown",
   "metadata": {},
   "source": [
    "# Now lets solve GLoVE\n",
    "\n",
    "Fine matrixes C and V such that\n",
    "$$\n",
    "loss = f(X)(CV - \\log X)^2\n",
    "$$\n",
    "is minimized\n"
   ]
  },
  {
   "cell_type": "markdown",
   "metadata": {},
   "source": [
    "we use \n",
    "\n",
    " - Optim as a global optimizer"
   ]
  },
  {
   "cell_type": "code",
   "execution_count": 17,
   "metadata": {},
   "outputs": [],
   "source": [
    "using Optim"
   ]
  },
  {
   "cell_type": "markdown",
   "metadata": {},
   "source": [
    "Define the problem.\n",
    "We will be storing $C$ and $V$ in the same matrix as that is how GLoVE likes ot handle memory. We call that combo `CV`.\n",
    "\n",
    "We also need to define the weighting function $f$ (we use the GLoVE defn here, I don't think it is optimal though.)\n",
    "\n",
    "And the Loss, which we express as function of X that returns a function of `CV`"
   ]
  },
  {
   "cell_type": "code",
   "execution_count": 19,
   "metadata": {},
   "outputs": [
    {
     "data": {
      "text/plain": [
       "loss (generic function with 1 method)"
      ]
     },
     "execution_count": 19,
     "metadata": {},
     "output_type": "execute_result"
    }
   ],
   "source": [
    "function split_CV(CV)\n",
    "    C = @view(CV[:, 1:end÷2])'\n",
    "    V = @view(CV[:, end÷2+1:end])\n",
    "    C,V\n",
    "end\n",
    "\n",
    "const xmax = 100\n",
    "const α = 2/3\n",
    "\n",
    "f(x) = x < xmax ? (x/xmax)^α : 1.0\n",
    "\n",
    "loss(X)=function (CV)\n",
    "    C,V = split_CV(CV)\n",
    "    sum(f.(X) * (C*V .- log.(X)).^2)\n",
    "end"
   ]
  },
  {
   "cell_type": "markdown",
   "metadata": {},
   "source": [
    "Now to fire off the Optimizer"
   ]
  },
  {
   "cell_type": "code",
   "execution_count": 47,
   "metadata": {},
   "outputs": [
    {
     "name": "stdout",
     "output_type": "stream",
     "text": [
      "Iter     Function value   Gradient norm \n",
      "     0     1.465958e+07     4.359829e+04\n",
      "     1     9.519550e+06     2.792328e+04\n",
      "     2     2.845302e+06     1.112419e+05\n",
      "     3     1.155138e+06     3.157157e+04\n",
      "     4     2.584911e+05     1.329107e+04\n",
      "     5     1.831195e+05     9.766707e+03\n",
      "     6     1.209924e+05     6.440853e+03\n",
      "     7     8.584785e+04     4.431290e+03\n",
      "     8     6.949686e+04     4.021958e+03\n",
      "     9     5.723261e+04     3.164766e+03\n",
      "    10     4.810486e+04     2.719151e+03\n",
      "    11     3.720668e+04     3.226355e+03\n",
      "    12     2.711645e+04     3.128809e+03\n",
      "    13     2.112864e+04     1.865994e+03\n",
      "    14     1.731377e+04     2.417813e+03\n",
      "    15     1.354619e+04     2.010272e+03\n",
      "    16     1.074690e+04     1.575245e+03\n",
      "    17     9.303234e+03     1.278200e+03\n",
      "    18     7.819925e+03     1.116280e+03\n",
      "    19     6.715845e+03     1.533538e+03\n",
      "    20     5.746494e+03     1.483222e+03\n",
      "    21     4.724295e+03     1.090125e+03\n",
      "    22     4.068409e+03     6.288472e+02\n",
      "    23     3.727617e+03     5.688917e+02\n",
      "    24     3.326472e+03     9.481684e+02\n",
      "    25     2.927716e+03     6.965541e+02\n",
      "    26     2.707128e+03     4.048488e+02\n",
      "    27     2.527832e+03     5.059500e+02\n",
      "    28     2.322410e+03     5.275904e+02\n",
      "    29     2.186256e+03     2.644679e+02\n",
      "    30     2.122460e+03     2.800607e+02\n",
      "    31     2.023748e+03     4.081231e+02\n",
      "    32     1.851877e+03     2.972319e+02\n",
      "    33     1.767800e+03     3.690121e+02\n",
      "    34     1.607799e+03     4.143489e+02\n",
      "    35     1.495907e+03     3.485674e+02\n",
      "    36     1.347922e+03     3.172099e+02\n",
      "    37     1.252843e+03     3.834151e+02\n"
     ]
    },
    {
     "data": {
      "text/plain": [
       "Results of Optimization Algorithm\n",
       " * Algorithm: L-BFGS\n",
       " * Starting Point: [0.024805772578811735,-0.7720315886734496, ...]\n",
       " * Minimizer: [-0.10010273252214376,-0.09650316755236711, ...]\n",
       " * Minimum: 1.252843e+03\n",
       " * Iterations: 37\n",
       " * Convergence: false\n",
       "   * |x - x'| ≤ 0.0e+00: false \n",
       "     |x - x'| = 2.68e-02 \n",
       "   * |f(x) - f(x')| ≤ 0.0e+00 |f(x)|: false\n",
       "     |f(x) - f(x')| = 7.59e-02 |f(x)|\n",
       "   * |g(x)| ≤ 1.0e-08: false \n",
       "     |g(x)| = 3.83e+02 \n",
       "   * Stopped by an increasing objective: false\n",
       "   * Reached Maximum Number of Iterations: false\n",
       " * Objective Calls: 111\n",
       " * Gradient Calls: 111"
      ]
     },
     "execution_count": 47,
     "metadata": {},
     "output_type": "execute_result"
    }
   ],
   "source": [
    "num_dims = 16\n",
    "CV = randn(num_dims, 2size(X,1)) # Twice the size as we need to split it off\n",
    "res = optimize(loss(X), CV, LBFGS(), \n",
    "    Optim.Options(show_trace=true,\n",
    "        #iterations = 200\n",
    "        time_limit = 5*60 #seconds\n",
    "        ))"
   ]
  },
  {
   "cell_type": "code",
   "execution_count": 50,
   "metadata": {},
   "outputs": [
    {
     "data": {
      "text/plain": [
       "([-0.100103 -0.0965032 … -1.68361 -0.204844; 0.185617 -0.432191 … -1.27079 -1.06709; … ; -0.170353 -0.593038 … -1.49797 -0.805711; 0.381816 -0.584476 … -1.81649 -0.598615], [0.0955229 -0.707881 … -0.21032 0.466066; 0.262625 -0.198147 … -0.267013 -0.347799; … ; -1.78473 -1.31709 … -1.3145 -1.24411; -0.814341 -0.122892 … -0.99751 -0.480277])"
      ]
     },
     "execution_count": 50,
     "metadata": {},
     "output_type": "execute_result"
    }
   ],
   "source": [
    "C,V = split_CV(res.minimizer)"
   ]
  },
  {
   "cell_type": "markdown",
   "metadata": {},
   "source": [
    "# Investigate results\n",
    "\n",
    "\n",
    "Just investigating the `C` embedding matrix for now,\n",
    "though we have the `V` matrix as well.\n",
    "\n",
    "In Glove they use the sum of the `C` and `V`."
   ]
  },
  {
   "cell_type": "markdown",
   "metadata": {},
   "source": [
    "## NearestNeighbors"
   ]
  },
  {
   "cell_type": "code",
   "execution_count": 58,
   "metadata": {},
   "outputs": [
    {
     "name": "stderr",
     "output_type": "stream",
     "text": [
      "┌ Info: Precompiling NearestNeighbors [b8a86587-4115-5ab1-83bc-aa920d37bbce]\n",
      "└ @ Base loading.jl:1187\n"
     ]
    }
   ],
   "source": [
    "using NearestNeighbors, Distances"
   ]
  },
  {
   "cell_type": "code",
   "execution_count": 59,
   "metadata": {},
   "outputs": [
    {
     "data": {
      "text/plain": [
       "(77, 16)"
      ]
     },
     "execution_count": 59,
     "metadata": {},
     "output_type": "execute_result"
    }
   ],
   "source": [
    "size(C)"
   ]
  },
  {
   "cell_type": "code",
   "execution_count": 99,
   "metadata": {},
   "outputs": [
    {
     "data": {
      "text/plain": [
       "nearestneighbours (generic function with 4 methods)"
      ]
     },
     "execution_count": 99,
     "metadata": {},
     "output_type": "execute_result"
    }
   ],
   "source": [
    "balltree = BallTree(collect(C'), Euclidean(); reorder = false)\n",
    "function nearestneighbours(id, n=5, balltree=balltree)\n",
    "    ids, dists = knn(balltree, C'[:,id], n, true)\n",
    "    [char_name.(ids) dists]\n",
    "end\n",
    "\n",
    "function nearestneighbours(name::AbstractString, args...)\n",
    "    nearestneighbours(char_id(name), args...)\n",
    "end"
   ]
  },
  {
   "cell_type": "code",
   "execution_count": 102,
   "metadata": {},
   "outputs": [
    {
     "data": {
      "text/plain": [
       "10×2 Array{Any,2}:\n",
       " \"Valjean\"            0.0     \n",
       " \"Thenardier\"         0.667668\n",
       " \"Javert\"             0.731243\n",
       " \"Gavroche\"           0.918564\n",
       " \"Babet\"              0.936689\n",
       " \"Claquesous\"         0.988014\n",
       " \"Mlle.Gillenormand\"  1.05546 \n",
       " \"Marius\"             1.06188 \n",
       " \"Eponine\"            1.08583 \n",
       " \"Gillenormand\"       1.09065 "
      ]
     },
     "execution_count": 102,
     "metadata": {},
     "output_type": "execute_result"
    }
   ],
   "source": [
    "nearestneighbours(\"Valjean\", 10)"
   ]
  },
  {
   "cell_type": "code",
   "execution_count": 109,
   "metadata": {},
   "outputs": [
    {
     "data": {
      "text/plain": [
       "25×2 Array{Any,2}:\n",
       " \"Cosette\"            0.0     \n",
       " \"Babet\"              0.807724\n",
       " \"Toussaint\"          0.931347\n",
       " \"Champmathieu\"       0.943286\n",
       " \"Thenardier\"         1.05093 \n",
       " \"Javert\"             1.0541  \n",
       " \"Simplice\"           1.06544 \n",
       " \"Gillenormand\"       1.07766 \n",
       " \"Woman1\"             1.18255 \n",
       " \"Fauchelevent\"       1.20778 \n",
       " \"Montparnasse\"       1.23035 \n",
       " \"Valjean\"            1.25585 \n",
       " \"Eponine\"            1.31704 \n",
       " \"Labarre\"            1.31912 \n",
       " \"Marius\"             1.32544 \n",
       " \"Gavroche\"           1.39051 \n",
       " \"Mlle.Gillenormand\"  1.41576 \n",
       " \"Marguerite\"         1.44631 \n",
       " \"Chenildieu\"         1.45732 \n",
       " \"Woman2\"             1.50369 \n",
       " \"Bamatabois\"         1.52571 \n",
       " \"Mlle.Baptistine\"    1.54608 \n",
       " \"Judge\"              1.585   \n",
       " \"MotherInnocent\"     1.60536 \n",
       " \"Claquesous\"         1.60656 "
      ]
     },
     "execution_count": 109,
     "metadata": {},
     "output_type": "execute_result"
    }
   ],
   "source": [
    "nearestneighbours(\"Cosette\", 25)"
   ]
  },
  {
   "cell_type": "markdown",
   "metadata": {},
   "source": [
    "## TSne"
   ]
  },
  {
   "cell_type": "code",
   "execution_count": 137,
   "metadata": {},
   "outputs": [
    {
     "data": {
      "text/plain": [
       "Plots.GRBackend()"
      ]
     },
     "execution_count": 137,
     "metadata": {},
     "output_type": "execute_result"
    }
   ],
   "source": [
    "using TSne\n",
    "using Plots\n",
    "gr()"
   ]
  },
  {
   "cell_type": "code",
   "execution_count": 156,
   "metadata": {},
   "outputs": [
    {
     "data": {
      "image/svg+xml": [
       "<?xml version=\"1.0\" encoding=\"utf-8\"?>\n",
       "<svg xmlns=\"http://www.w3.org/2000/svg\" xmlns:xlink=\"http://www.w3.org/1999/xlink\" width=\"500\" height=\"250\" viewBox=\"0 0 2000 1000\">\n",
       "<defs>\n",
       "  <clipPath id=\"clip8600\">\n",
       "    <rect x=\"0\" y=\"0\" width=\"2000\" height=\"2000\"/>\n",
       "  </clipPath>\n",
       "</defs>\n",
       "<defs>\n",
       "  <clipPath id=\"clip8601\">\n",
       "    <rect x=\"0\" y=\"0\" width=\"2000\" height=\"1000\"/>\n",
       "  </clipPath>\n",
       "</defs>\n",
       "<polygon clip-path=\"url(#clip8601)\" points=\"\n",
       "0,1000 2000,1000 2000,0 0,0 \n",
       "  \" fill=\"#ffffff\" fill-opacity=\"1\"/>\n",
       "<defs>\n",
       "  <clipPath id=\"clip8602\">\n",
       "    <rect x=\"400\" y=\"0\" width=\"1401\" height=\"1000\"/>\n",
       "  </clipPath>\n",
       "</defs>\n",
       "<polygon clip-path=\"url(#clip8601)\" points=\"\n",
       "50.7213,977.965 1980.31,977.965 1980.31,11.811 50.7213,11.811 \n",
       "  \" fill=\"#ffffff\" fill-opacity=\"1\"/>\n",
       "<defs>\n",
       "  <clipPath id=\"clip8603\">\n",
       "    <rect x=\"50\" y=\"11\" width=\"1931\" height=\"967\"/>\n",
       "  </clipPath>\n",
       "</defs>\n",
       "<polyline clip-path=\"url(#clip8603)\" style=\"stroke:#000000; stroke-width:0.5; stroke-opacity:0.1; fill:none\" points=\"\n",
       "  349.991,977.965 349.991,11.811 \n",
       "  \"/>\n",
       "<polyline clip-path=\"url(#clip8603)\" style=\"stroke:#000000; stroke-width:0.5; stroke-opacity:0.1; fill:none\" points=\"\n",
       "  729.612,977.965 729.612,11.811 \n",
       "  \"/>\n",
       "<polyline clip-path=\"url(#clip8603)\" style=\"stroke:#000000; stroke-width:0.5; stroke-opacity:0.1; fill:none\" points=\"\n",
       "  1109.23,977.965 1109.23,11.811 \n",
       "  \"/>\n",
       "<polyline clip-path=\"url(#clip8603)\" style=\"stroke:#000000; stroke-width:0.5; stroke-opacity:0.1; fill:none\" points=\"\n",
       "  1488.85,977.965 1488.85,11.811 \n",
       "  \"/>\n",
       "<polyline clip-path=\"url(#clip8603)\" style=\"stroke:#000000; stroke-width:0.5; stroke-opacity:0.1; fill:none\" points=\"\n",
       "  1868.48,977.965 1868.48,11.811 \n",
       "  \"/>\n",
       "<polyline clip-path=\"url(#clip8603)\" style=\"stroke:#000000; stroke-width:0.5; stroke-opacity:0.1; fill:none\" points=\"\n",
       "  50.7213,903.145 1980.31,903.145 \n",
       "  \"/>\n",
       "<polyline clip-path=\"url(#clip8603)\" style=\"stroke:#000000; stroke-width:0.5; stroke-opacity:0.1; fill:none\" points=\"\n",
       "  50.7213,683.444 1980.31,683.444 \n",
       "  \"/>\n",
       "<polyline clip-path=\"url(#clip8603)\" style=\"stroke:#000000; stroke-width:0.5; stroke-opacity:0.1; fill:none\" points=\"\n",
       "  50.7213,463.743 1980.31,463.743 \n",
       "  \"/>\n",
       "<polyline clip-path=\"url(#clip8603)\" style=\"stroke:#000000; stroke-width:0.5; stroke-opacity:0.1; fill:none\" points=\"\n",
       "  50.7213,244.041 1980.31,244.041 \n",
       "  \"/>\n",
       "<polyline clip-path=\"url(#clip8603)\" style=\"stroke:#000000; stroke-width:0.5; stroke-opacity:0.1; fill:none\" points=\"\n",
       "  50.7213,24.3401 1980.31,24.3401 \n",
       "  \"/>\n",
       "<polyline clip-path=\"url(#clip8601)\" style=\"stroke:#000000; stroke-width:1; stroke-opacity:1; fill:none\" points=\"\n",
       "  50.7213,977.965 1980.31,977.965 \n",
       "  \"/>\n",
       "<polyline clip-path=\"url(#clip8601)\" style=\"stroke:#000000; stroke-width:1; stroke-opacity:1; fill:none\" points=\"\n",
       "  50.7213,977.965 50.7213,11.811 \n",
       "  \"/>\n",
       "<polyline clip-path=\"url(#clip8601)\" style=\"stroke:#000000; stroke-width:1; stroke-opacity:1; fill:none\" points=\"\n",
       "  349.991,977.965 349.991,963.472 \n",
       "  \"/>\n",
       "<polyline clip-path=\"url(#clip8601)\" style=\"stroke:#000000; stroke-width:1; stroke-opacity:1; fill:none\" points=\"\n",
       "  729.612,977.965 729.612,963.472 \n",
       "  \"/>\n",
       "<polyline clip-path=\"url(#clip8601)\" style=\"stroke:#000000; stroke-width:1; stroke-opacity:1; fill:none\" points=\"\n",
       "  1109.23,977.965 1109.23,963.472 \n",
       "  \"/>\n",
       "<polyline clip-path=\"url(#clip8601)\" style=\"stroke:#000000; stroke-width:1; stroke-opacity:1; fill:none\" points=\"\n",
       "  1488.85,977.965 1488.85,963.472 \n",
       "  \"/>\n",
       "<polyline clip-path=\"url(#clip8601)\" style=\"stroke:#000000; stroke-width:1; stroke-opacity:1; fill:none\" points=\"\n",
       "  1868.48,977.965 1868.48,963.472 \n",
       "  \"/>\n",
       "<polyline clip-path=\"url(#clip8601)\" style=\"stroke:#000000; stroke-width:1; stroke-opacity:1; fill:none\" points=\"\n",
       "  50.7213,903.145 79.6652,903.145 \n",
       "  \"/>\n",
       "<polyline clip-path=\"url(#clip8601)\" style=\"stroke:#000000; stroke-width:1; stroke-opacity:1; fill:none\" points=\"\n",
       "  50.7213,683.444 79.6652,683.444 \n",
       "  \"/>\n",
       "<polyline clip-path=\"url(#clip8601)\" style=\"stroke:#000000; stroke-width:1; stroke-opacity:1; fill:none\" points=\"\n",
       "  50.7213,463.743 79.6652,463.743 \n",
       "  \"/>\n",
       "<polyline clip-path=\"url(#clip8601)\" style=\"stroke:#000000; stroke-width:1; stroke-opacity:1; fill:none\" points=\"\n",
       "  50.7213,244.041 79.6652,244.041 \n",
       "  \"/>\n",
       "<polyline clip-path=\"url(#clip8601)\" style=\"stroke:#000000; stroke-width:1; stroke-opacity:1; fill:none\" points=\"\n",
       "  50.7213,24.3401 79.6652,24.3401 \n",
       "  \"/>\n",
       "<g clip-path=\"url(#clip8601)\">\n",
       "<text style=\"fill:#000000; fill-opacity:1; font-family:Arial,Helvetica Neue,Helvetica,sans-serif; font-size:12; text-anchor:middle;\" transform=\"rotate(0, 349.991, 998.765)\" x=\"349.991\" y=\"998.765\">-100</text>\n",
       "</g>\n",
       "<g clip-path=\"url(#clip8601)\">\n",
       "<text style=\"fill:#000000; fill-opacity:1; font-family:Arial,Helvetica Neue,Helvetica,sans-serif; font-size:12; text-anchor:middle;\" transform=\"rotate(0, 729.612, 998.765)\" x=\"729.612\" y=\"998.765\">-50</text>\n",
       "</g>\n",
       "<g clip-path=\"url(#clip8601)\">\n",
       "<text style=\"fill:#000000; fill-opacity:1; font-family:Arial,Helvetica Neue,Helvetica,sans-serif; font-size:12; text-anchor:middle;\" transform=\"rotate(0, 1109.23, 998.765)\" x=\"1109.23\" y=\"998.765\">0</text>\n",
       "</g>\n",
       "<g clip-path=\"url(#clip8601)\">\n",
       "<text style=\"fill:#000000; fill-opacity:1; font-family:Arial,Helvetica Neue,Helvetica,sans-serif; font-size:12; text-anchor:middle;\" transform=\"rotate(0, 1488.85, 998.765)\" x=\"1488.85\" y=\"998.765\">50</text>\n",
       "</g>\n",
       "<g clip-path=\"url(#clip8601)\">\n",
       "<text style=\"fill:#000000; fill-opacity:1; font-family:Arial,Helvetica Neue,Helvetica,sans-serif; font-size:12; text-anchor:middle;\" transform=\"rotate(0, 1868.48, 998.765)\" x=\"1868.48\" y=\"998.765\">100</text>\n",
       "</g>\n",
       "<g clip-path=\"url(#clip8601)\">\n",
       "<text style=\"fill:#000000; fill-opacity:1; font-family:Arial,Helvetica Neue,Helvetica,sans-serif; font-size:12; text-anchor:end;\" transform=\"rotate(0, 30.7213, 907.645)\" x=\"30.7213\" y=\"907.645\">-100</text>\n",
       "</g>\n",
       "<g clip-path=\"url(#clip8601)\">\n",
       "<text style=\"fill:#000000; fill-opacity:1; font-family:Arial,Helvetica Neue,Helvetica,sans-serif; font-size:12; text-anchor:end;\" transform=\"rotate(0, 30.7213, 687.944)\" x=\"30.7213\" y=\"687.944\">-50</text>\n",
       "</g>\n",
       "<g clip-path=\"url(#clip8601)\">\n",
       "<text style=\"fill:#000000; fill-opacity:1; font-family:Arial,Helvetica Neue,Helvetica,sans-serif; font-size:12; text-anchor:end;\" transform=\"rotate(0, 30.7213, 468.243)\" x=\"30.7213\" y=\"468.243\">0</text>\n",
       "</g>\n",
       "<g clip-path=\"url(#clip8601)\">\n",
       "<text style=\"fill:#000000; fill-opacity:1; font-family:Arial,Helvetica Neue,Helvetica,sans-serif; font-size:12; text-anchor:end;\" transform=\"rotate(0, 30.7213, 248.541)\" x=\"30.7213\" y=\"248.541\">50</text>\n",
       "</g>\n",
       "<g clip-path=\"url(#clip8601)\">\n",
       "<text style=\"fill:#000000; fill-opacity:1; font-family:Arial,Helvetica Neue,Helvetica,sans-serif; font-size:12; text-anchor:end;\" transform=\"rotate(0, 30.7213, 28.8401)\" x=\"30.7213\" y=\"28.8401\">100</text>\n",
       "</g>\n",
       "<circle clip-path=\"url(#clip8603)\" style=\"fill:#000000; stroke:none; fill-opacity:1\" cx=\"711.625\" cy=\"342.229\" r=\"18\"/>\n",
       "<circle clip-path=\"url(#clip8603)\" style=\"fill:#009af9; stroke:none; fill-opacity:1\" cx=\"711.625\" cy=\"342.229\" r=\"18\"/>\n",
       "<circle clip-path=\"url(#clip8603)\" style=\"fill:#000000; stroke:none; fill-opacity:1\" cx=\"976.763\" cy=\"204.994\" r=\"18\"/>\n",
       "<circle clip-path=\"url(#clip8603)\" style=\"fill:#009af9; stroke:none; fill-opacity:1\" cx=\"976.763\" cy=\"204.994\" r=\"18\"/>\n",
       "<circle clip-path=\"url(#clip8603)\" style=\"fill:#000000; stroke:none; fill-opacity:1\" cx=\"1695.83\" cy=\"238.834\" r=\"18\"/>\n",
       "<circle clip-path=\"url(#clip8603)\" style=\"fill:#009af9; stroke:none; fill-opacity:1\" cx=\"1695.83\" cy=\"238.834\" r=\"18\"/>\n",
       "<circle clip-path=\"url(#clip8603)\" style=\"fill:#000000; stroke:none; fill-opacity:1\" cx=\"1132.57\" cy=\"121.607\" r=\"18\"/>\n",
       "<circle clip-path=\"url(#clip8603)\" style=\"fill:#e26f46; stroke:none; fill-opacity:1\" cx=\"1132.57\" cy=\"121.607\" r=\"18\"/>\n",
       "<circle clip-path=\"url(#clip8603)\" style=\"fill:#000000; stroke:none; fill-opacity:1\" cx=\"1700.2\" cy=\"488.269\" r=\"18\"/>\n",
       "<circle clip-path=\"url(#clip8603)\" style=\"fill:#e26f46; stroke:none; fill-opacity:1\" cx=\"1700.2\" cy=\"488.269\" r=\"18\"/>\n",
       "<circle clip-path=\"url(#clip8603)\" style=\"fill:#000000; stroke:none; fill-opacity:1\" cx=\"1059.36\" cy=\"305.811\" r=\"18\"/>\n",
       "<circle clip-path=\"url(#clip8603)\" style=\"fill:#e26f46; stroke:none; fill-opacity:1\" cx=\"1059.36\" cy=\"305.811\" r=\"18\"/>\n",
       "<circle clip-path=\"url(#clip8603)\" style=\"fill:#000000; stroke:none; fill-opacity:1\" cx=\"1147.83\" cy=\"372.354\" r=\"18\"/>\n",
       "<circle clip-path=\"url(#clip8603)\" style=\"fill:#e26f46; stroke:none; fill-opacity:1\" cx=\"1147.83\" cy=\"372.354\" r=\"18\"/>\n",
       "<circle clip-path=\"url(#clip8603)\" style=\"fill:#000000; stroke:none; fill-opacity:1\" cx=\"1615.18\" cy=\"159.653\" r=\"18\"/>\n",
       "<circle clip-path=\"url(#clip8603)\" style=\"fill:#e26f46; stroke:none; fill-opacity:1\" cx=\"1615.18\" cy=\"159.653\" r=\"18\"/>\n",
       "<circle clip-path=\"url(#clip8603)\" style=\"fill:#000000; stroke:none; fill-opacity:1\" cx=\"1723.94\" cy=\"154.495\" r=\"18\"/>\n",
       "<circle clip-path=\"url(#clip8603)\" style=\"fill:#e26f46; stroke:none; fill-opacity:1\" cx=\"1723.94\" cy=\"154.495\" r=\"18\"/>\n",
       "<circle clip-path=\"url(#clip8603)\" style=\"fill:#000000; stroke:none; fill-opacity:1\" cx=\"1248.7\" cy=\"39.155\" r=\"18\"/>\n",
       "<circle clip-path=\"url(#clip8603)\" style=\"fill:#e26f46; stroke:none; fill-opacity:1\" cx=\"1248.7\" cy=\"39.155\" r=\"18\"/>\n",
       "<circle clip-path=\"url(#clip8603)\" style=\"fill:#000000; stroke:none; fill-opacity:1\" cx=\"1672.35\" cy=\"436.65\" r=\"18\"/>\n",
       "<circle clip-path=\"url(#clip8603)\" style=\"fill:#e26f46; stroke:none; fill-opacity:1\" cx=\"1672.35\" cy=\"436.65\" r=\"18\"/>\n",
       "<circle clip-path=\"url(#clip8603)\" style=\"fill:#000000; stroke:none; fill-opacity:1\" cx=\"860.717\" cy=\"74.0274\" r=\"18\"/>\n",
       "<circle clip-path=\"url(#clip8603)\" style=\"fill:#e26f46; stroke:none; fill-opacity:1\" cx=\"860.717\" cy=\"74.0274\" r=\"18\"/>\n",
       "<circle clip-path=\"url(#clip8603)\" style=\"fill:#000000; stroke:none; fill-opacity:1\" cx=\"1858.99\" cy=\"339.822\" r=\"18\"/>\n",
       "<circle clip-path=\"url(#clip8603)\" style=\"fill:#e26f46; stroke:none; fill-opacity:1\" cx=\"1858.99\" cy=\"339.822\" r=\"18\"/>\n",
       "<circle clip-path=\"url(#clip8603)\" style=\"fill:#000000; stroke:none; fill-opacity:1\" cx=\"820.213\" cy=\"203.006\" r=\"18\"/>\n",
       "<circle clip-path=\"url(#clip8603)\" style=\"fill:#3da44d; stroke:none; fill-opacity:1\" cx=\"820.213\" cy=\"203.006\" r=\"18\"/>\n",
       "<circle clip-path=\"url(#clip8603)\" style=\"fill:#000000; stroke:none; fill-opacity:1\" cx=\"928.144\" cy=\"653.51\" r=\"18\"/>\n",
       "<circle clip-path=\"url(#clip8603)\" style=\"fill:#3da44d; stroke:none; fill-opacity:1\" cx=\"928.144\" cy=\"653.51\" r=\"18\"/>\n",
       "<circle clip-path=\"url(#clip8603)\" style=\"fill:#000000; stroke:none; fill-opacity:1\" cx=\"1465.53\" cy=\"378.664\" r=\"18\"/>\n",
       "<circle clip-path=\"url(#clip8603)\" style=\"fill:#3da44d; stroke:none; fill-opacity:1\" cx=\"1465.53\" cy=\"378.664\" r=\"18\"/>\n",
       "<circle clip-path=\"url(#clip8603)\" style=\"fill:#000000; stroke:none; fill-opacity:1\" cx=\"1221.95\" cy=\"176.922\" r=\"18\"/>\n",
       "<circle clip-path=\"url(#clip8603)\" style=\"fill:#3da44d; stroke:none; fill-opacity:1\" cx=\"1221.95\" cy=\"176.922\" r=\"18\"/>\n",
       "<circle clip-path=\"url(#clip8603)\" style=\"fill:#000000; stroke:none; fill-opacity:1\" cx=\"1041.16\" cy=\"365.373\" r=\"18\"/>\n",
       "<circle clip-path=\"url(#clip8603)\" style=\"fill:#3da44d; stroke:none; fill-opacity:1\" cx=\"1041.16\" cy=\"365.373\" r=\"18\"/>\n",
       "<circle clip-path=\"url(#clip8603)\" style=\"fill:#000000; stroke:none; fill-opacity:1\" cx=\"1247.9\" cy=\"255.495\" r=\"18\"/>\n",
       "<circle clip-path=\"url(#clip8603)\" style=\"fill:#3da44d; stroke:none; fill-opacity:1\" cx=\"1247.9\" cy=\"255.495\" r=\"18\"/>\n",
       "<circle clip-path=\"url(#clip8603)\" style=\"fill:#000000; stroke:none; fill-opacity:1\" cx=\"722.866\" cy=\"253.444\" r=\"18\"/>\n",
       "<circle clip-path=\"url(#clip8603)\" style=\"fill:#3da44d; stroke:none; fill-opacity:1\" cx=\"722.866\" cy=\"253.444\" r=\"18\"/>\n",
       "<circle clip-path=\"url(#clip8603)\" style=\"fill:#000000; stroke:none; fill-opacity:1\" cx=\"954.79\" cy=\"287.815\" r=\"18\"/>\n",
       "<circle clip-path=\"url(#clip8603)\" style=\"fill:#3da44d; stroke:none; fill-opacity:1\" cx=\"954.79\" cy=\"287.815\" r=\"18\"/>\n",
       "<circle clip-path=\"url(#clip8603)\" style=\"fill:#000000; stroke:none; fill-opacity:1\" cx=\"925.819\" cy=\"350.877\" r=\"18\"/>\n",
       "<circle clip-path=\"url(#clip8603)\" style=\"fill:#3da44d; stroke:none; fill-opacity:1\" cx=\"925.819\" cy=\"350.877\" r=\"18\"/>\n",
       "<circle clip-path=\"url(#clip8603)\" style=\"fill:#000000; stroke:none; fill-opacity:1\" cx=\"1361.95\" cy=\"303.812\" r=\"18\"/>\n",
       "<circle clip-path=\"url(#clip8603)\" style=\"fill:#3da44d; stroke:none; fill-opacity:1\" cx=\"1361.95\" cy=\"303.812\" r=\"18\"/>\n",
       "<circle clip-path=\"url(#clip8603)\" style=\"fill:#000000; stroke:none; fill-opacity:1\" cx=\"642.581\" cy=\"294.89\" r=\"18\"/>\n",
       "<circle clip-path=\"url(#clip8603)\" style=\"fill:#3da44d; stroke:none; fill-opacity:1\" cx=\"642.581\" cy=\"294.89\" r=\"18\"/>\n",
       "<circle clip-path=\"url(#clip8603)\" style=\"fill:#000000; stroke:none; fill-opacity:1\" cx=\"1333.61\" cy=\"219.991\" r=\"18\"/>\n",
       "<circle clip-path=\"url(#clip8603)\" style=\"fill:#3da44d; stroke:none; fill-opacity:1\" cx=\"1333.61\" cy=\"219.991\" r=\"18\"/>\n",
       "<circle clip-path=\"url(#clip8603)\" style=\"fill:#000000; stroke:none; fill-opacity:1\" cx=\"1276.57\" cy=\"329.402\" r=\"18\"/>\n",
       "<circle clip-path=\"url(#clip8603)\" style=\"fill:#3da44d; stroke:none; fill-opacity:1\" cx=\"1276.57\" cy=\"329.402\" r=\"18\"/>\n",
       "<circle clip-path=\"url(#clip8603)\" style=\"fill:#000000; stroke:none; fill-opacity:1\" cx=\"1446.7\" cy=\"245.806\" r=\"18\"/>\n",
       "<circle clip-path=\"url(#clip8603)\" style=\"fill:#3da44d; stroke:none; fill-opacity:1\" cx=\"1446.7\" cy=\"245.806\" r=\"18\"/>\n",
       "<circle clip-path=\"url(#clip8603)\" style=\"fill:#000000; stroke:none; fill-opacity:1\" cx=\"810.712\" cy=\"373.961\" r=\"18\"/>\n",
       "<circle clip-path=\"url(#clip8603)\" style=\"fill:#c271d2; stroke:none; fill-opacity:1\" cx=\"810.712\" cy=\"373.961\" r=\"18\"/>\n",
       "<circle clip-path=\"url(#clip8603)\" style=\"fill:#000000; stroke:none; fill-opacity:1\" cx=\"343.732\" cy=\"414.813\" r=\"18\"/>\n",
       "<circle clip-path=\"url(#clip8603)\" style=\"fill:#c271d2; stroke:none; fill-opacity:1\" cx=\"343.732\" cy=\"414.813\" r=\"18\"/>\n",
       "<circle clip-path=\"url(#clip8603)\" style=\"fill:#000000; stroke:none; fill-opacity:1\" cx=\"296.022\" cy=\"323.866\" r=\"18\"/>\n",
       "<circle clip-path=\"url(#clip8603)\" style=\"fill:#c271d2; stroke:none; fill-opacity:1\" cx=\"296.022\" cy=\"323.866\" r=\"18\"/>\n",
       "<circle clip-path=\"url(#clip8603)\" style=\"fill:#000000; stroke:none; fill-opacity:1\" cx=\"214.532\" cy=\"355.274\" r=\"18\"/>\n",
       "<circle clip-path=\"url(#clip8603)\" style=\"fill:#c271d2; stroke:none; fill-opacity:1\" cx=\"214.532\" cy=\"355.274\" r=\"18\"/>\n",
       "<circle clip-path=\"url(#clip8603)\" style=\"fill:#000000; stroke:none; fill-opacity:1\" cx=\"268.84\" cy=\"261.906\" r=\"18\"/>\n",
       "<circle clip-path=\"url(#clip8603)\" style=\"fill:#c271d2; stroke:none; fill-opacity:1\" cx=\"268.84\" cy=\"261.906\" r=\"18\"/>\n",
       "<circle clip-path=\"url(#clip8603)\" style=\"fill:#000000; stroke:none; fill-opacity:1\" cx=\"154.773\" cy=\"296.68\" r=\"18\"/>\n",
       "<circle clip-path=\"url(#clip8603)\" style=\"fill:#c271d2; stroke:none; fill-opacity:1\" cx=\"154.773\" cy=\"296.68\" r=\"18\"/>\n",
       "<circle clip-path=\"url(#clip8603)\" style=\"fill:#000000; stroke:none; fill-opacity:1\" cx=\"325.186\" cy=\"213.158\" r=\"18\"/>\n",
       "<circle clip-path=\"url(#clip8603)\" style=\"fill:#c271d2; stroke:none; fill-opacity:1\" cx=\"325.186\" cy=\"213.158\" r=\"18\"/>\n",
       "<circle clip-path=\"url(#clip8603)\" style=\"fill:#000000; stroke:none; fill-opacity:1\" cx=\"105.332\" cy=\"352.281\" r=\"18\"/>\n",
       "<circle clip-path=\"url(#clip8603)\" style=\"fill:#c271d2; stroke:none; fill-opacity:1\" cx=\"105.332\" cy=\"352.281\" r=\"18\"/>\n",
       "<circle clip-path=\"url(#clip8603)\" style=\"fill:#000000; stroke:none; fill-opacity:1\" cx=\"424.26\" cy=\"445.778\" r=\"18\"/>\n",
       "<circle clip-path=\"url(#clip8603)\" style=\"fill:#c271d2; stroke:none; fill-opacity:1\" cx=\"424.26\" cy=\"445.778\" r=\"18\"/>\n",
       "<circle clip-path=\"url(#clip8603)\" style=\"fill:#000000; stroke:none; fill-opacity:1\" cx=\"434.768\" cy=\"221.401\" r=\"18\"/>\n",
       "<circle clip-path=\"url(#clip8603)\" style=\"fill:#c271d2; stroke:none; fill-opacity:1\" cx=\"434.768\" cy=\"221.401\" r=\"18\"/>\n",
       "<circle clip-path=\"url(#clip8603)\" style=\"fill:#000000; stroke:none; fill-opacity:1\" cx=\"914.211\" cy=\"516.576\" r=\"18\"/>\n",
       "<circle clip-path=\"url(#clip8603)\" style=\"fill:#ac8d18; stroke:none; fill-opacity:1\" cx=\"914.211\" cy=\"516.576\" r=\"18\"/>\n",
       "<circle clip-path=\"url(#clip8603)\" style=\"fill:#000000; stroke:none; fill-opacity:1\" cx=\"867.651\" cy=\"592.488\" r=\"18\"/>\n",
       "<circle clip-path=\"url(#clip8603)\" style=\"fill:#ac8d18; stroke:none; fill-opacity:1\" cx=\"867.651\" cy=\"592.488\" r=\"18\"/>\n",
       "<circle clip-path=\"url(#clip8603)\" style=\"fill:#000000; stroke:none; fill-opacity:1\" cx=\"761.889\" cy=\"525.454\" r=\"18\"/>\n",
       "<circle clip-path=\"url(#clip8603)\" style=\"fill:#ac8d18; stroke:none; fill-opacity:1\" cx=\"761.889\" cy=\"525.454\" r=\"18\"/>\n",
       "<circle clip-path=\"url(#clip8603)\" style=\"fill:#000000; stroke:none; fill-opacity:1\" cx=\"1247.95\" cy=\"456.937\" r=\"18\"/>\n",
       "<circle clip-path=\"url(#clip8603)\" style=\"fill:#ac8d18; stroke:none; fill-opacity:1\" cx=\"1247.95\" cy=\"456.937\" r=\"18\"/>\n",
       "<circle clip-path=\"url(#clip8603)\" style=\"fill:#000000; stroke:none; fill-opacity:1\" cx=\"1000.71\" cy=\"563.16\" r=\"18\"/>\n",
       "<circle clip-path=\"url(#clip8603)\" style=\"fill:#ac8d18; stroke:none; fill-opacity:1\" cx=\"1000.71\" cy=\"563.16\" r=\"18\"/>\n",
       "<circle clip-path=\"url(#clip8603)\" style=\"fill:#000000; stroke:none; fill-opacity:1\" cx=\"1344.1\" cy=\"522.393\" r=\"18\"/>\n",
       "<circle clip-path=\"url(#clip8603)\" style=\"fill:#ac8d18; stroke:none; fill-opacity:1\" cx=\"1344.1\" cy=\"522.393\" r=\"18\"/>\n",
       "<circle clip-path=\"url(#clip8603)\" style=\"fill:#000000; stroke:none; fill-opacity:1\" cx=\"661.809\" cy=\"666.835\" r=\"18\"/>\n",
       "<circle clip-path=\"url(#clip8603)\" style=\"fill:#ac8d18; stroke:none; fill-opacity:1\" cx=\"661.809\" cy=\"666.835\" r=\"18\"/>\n",
       "<circle clip-path=\"url(#clip8603)\" style=\"fill:#000000; stroke:none; fill-opacity:1\" cx=\"756.597\" cy=\"588.3\" r=\"18\"/>\n",
       "<circle clip-path=\"url(#clip8603)\" style=\"fill:#ac8d18; stroke:none; fill-opacity:1\" cx=\"756.597\" cy=\"588.3\" r=\"18\"/>\n",
       "<circle clip-path=\"url(#clip8603)\" style=\"fill:#000000; stroke:none; fill-opacity:1\" cx=\"1114.16\" cy=\"579.82\" r=\"18\"/>\n",
       "<circle clip-path=\"url(#clip8603)\" style=\"fill:#ac8d18; stroke:none; fill-opacity:1\" cx=\"1114.16\" cy=\"579.82\" r=\"18\"/>\n",
       "<circle clip-path=\"url(#clip8603)\" style=\"fill:#000000; stroke:none; fill-opacity:1\" cx=\"768.553\" cy=\"654.608\" r=\"18\"/>\n",
       "<circle clip-path=\"url(#clip8603)\" style=\"fill:#ac8d18; stroke:none; fill-opacity:1\" cx=\"768.553\" cy=\"654.608\" r=\"18\"/>\n",
       "<circle clip-path=\"url(#clip8603)\" style=\"fill:#000000; stroke:none; fill-opacity:1\" cx=\"1219.26\" cy=\"548.526\" r=\"18\"/>\n",
       "<circle clip-path=\"url(#clip8603)\" style=\"fill:#ac8d18; stroke:none; fill-opacity:1\" cx=\"1219.26\" cy=\"548.526\" r=\"18\"/>\n",
       "<circle clip-path=\"url(#clip8603)\" style=\"fill:#000000; stroke:none; fill-opacity:1\" cx=\"662.747\" cy=\"454.068\" r=\"18\"/>\n",
       "<circle clip-path=\"url(#clip8603)\" style=\"fill:#00a9ad; stroke:none; fill-opacity:1\" cx=\"662.747\" cy=\"454.068\" r=\"18\"/>\n",
       "<circle clip-path=\"url(#clip8603)\" style=\"fill:#000000; stroke:none; fill-opacity:1\" cx=\"1122.4\" cy=\"450.081\" r=\"18\"/>\n",
       "<circle clip-path=\"url(#clip8603)\" style=\"fill:#00a9ad; stroke:none; fill-opacity:1\" cx=\"1122.4\" cy=\"450.081\" r=\"18\"/>\n",
       "<circle clip-path=\"url(#clip8603)\" style=\"fill:#000000; stroke:none; fill-opacity:1\" cx=\"947.525\" cy=\"424.431\" r=\"18\"/>\n",
       "<circle clip-path=\"url(#clip8603)\" style=\"fill:#00a9ad; stroke:none; fill-opacity:1\" cx=\"947.525\" cy=\"424.431\" r=\"18\"/>\n",
       "<circle clip-path=\"url(#clip8603)\" style=\"fill:#000000; stroke:none; fill-opacity:1\" cx=\"1083.59\" cy=\"212.854\" r=\"18\"/>\n",
       "<circle clip-path=\"url(#clip8603)\" style=\"fill:#00a9ad; stroke:none; fill-opacity:1\" cx=\"1083.59\" cy=\"212.854\" r=\"18\"/>\n",
       "<circle clip-path=\"url(#clip8603)\" style=\"fill:#000000; stroke:none; fill-opacity:1\" cx=\"1040.57\" cy=\"479.901\" r=\"18\"/>\n",
       "<circle clip-path=\"url(#clip8603)\" style=\"fill:#00a9ad; stroke:none; fill-opacity:1\" cx=\"1040.57\" cy=\"479.901\" r=\"18\"/>\n",
       "<circle clip-path=\"url(#clip8603)\" style=\"fill:#000000; stroke:none; fill-opacity:1\" cx=\"1716.02\" cy=\"302.571\" r=\"18\"/>\n",
       "<circle clip-path=\"url(#clip8603)\" style=\"fill:#00a9ad; stroke:none; fill-opacity:1\" cx=\"1716.02\" cy=\"302.571\" r=\"18\"/>\n",
       "<circle clip-path=\"url(#clip8603)\" style=\"fill:#000000; stroke:none; fill-opacity:1\" cx=\"1925.7\" cy=\"286.066\" r=\"18\"/>\n",
       "<circle clip-path=\"url(#clip8603)\" style=\"fill:#00a9ad; stroke:none; fill-opacity:1\" cx=\"1925.7\" cy=\"286.066\" r=\"18\"/>\n",
       "<circle clip-path=\"url(#clip8603)\" style=\"fill:#000000; stroke:none; fill-opacity:1\" cx=\"1468.76\" cy=\"508.949\" r=\"18\"/>\n",
       "<circle clip-path=\"url(#clip8603)\" style=\"fill:#00a9ad; stroke:none; fill-opacity:1\" cx=\"1468.76\" cy=\"508.949\" r=\"18\"/>\n",
       "<circle clip-path=\"url(#clip8603)\" style=\"fill:#000000; stroke:none; fill-opacity:1\" cx=\"1559.16\" cy=\"556.748\" r=\"18\"/>\n",
       "<circle clip-path=\"url(#clip8603)\" style=\"fill:#00a9ad; stroke:none; fill-opacity:1\" cx=\"1559.16\" cy=\"556.748\" r=\"18\"/>\n",
       "<circle clip-path=\"url(#clip8603)\" style=\"fill:#000000; stroke:none; fill-opacity:1\" cx=\"816.939\" cy=\"284.424\" r=\"18\"/>\n",
       "<circle clip-path=\"url(#clip8603)\" style=\"fill:#00a9ad; stroke:none; fill-opacity:1\" cx=\"816.939\" cy=\"284.424\" r=\"18\"/>\n",
       "<circle clip-path=\"url(#clip8603)\" style=\"fill:#000000; stroke:none; fill-opacity:1\" cx=\"1397.65\" cy=\"590.09\" r=\"18\"/>\n",
       "<circle clip-path=\"url(#clip8603)\" style=\"fill:#ed5d92; stroke:none; fill-opacity:1\" cx=\"1397.65\" cy=\"590.09\" r=\"18\"/>\n",
       "<circle clip-path=\"url(#clip8603)\" style=\"fill:#000000; stroke:none; fill-opacity:1\" cx=\"1869.28\" cy=\"686.218\" r=\"18\"/>\n",
       "<circle clip-path=\"url(#clip8603)\" style=\"fill:#c68125; stroke:none; fill-opacity:1\" cx=\"1869.28\" cy=\"686.218\" r=\"18\"/>\n",
       "<circle clip-path=\"url(#clip8603)\" style=\"fill:#000000; stroke:none; fill-opacity:1\" cx=\"1598.25\" cy=\"620.699\" r=\"18\"/>\n",
       "<circle clip-path=\"url(#clip8603)\" style=\"fill:#c68125; stroke:none; fill-opacity:1\" cx=\"1598.25\" cy=\"620.699\" r=\"18\"/>\n",
       "<circle clip-path=\"url(#clip8603)\" style=\"fill:#000000; stroke:none; fill-opacity:1\" cx=\"1081.7\" cy=\"736.045\" r=\"18\"/>\n",
       "<circle clip-path=\"url(#clip8603)\" style=\"fill:#00a98d; stroke:none; fill-opacity:1\" cx=\"1081.7\" cy=\"736.045\" r=\"18\"/>\n",
       "<circle clip-path=\"url(#clip8603)\" style=\"fill:#000000; stroke:none; fill-opacity:1\" cx=\"990.804\" cy=\"776.084\" r=\"18\"/>\n",
       "<circle clip-path=\"url(#clip8603)\" style=\"fill:#00a98d; stroke:none; fill-opacity:1\" cx=\"990.804\" cy=\"776.084\" r=\"18\"/>\n",
       "<circle clip-path=\"url(#clip8603)\" style=\"fill:#000000; stroke:none; fill-opacity:1\" cx=\"1331.67\" cy=\"737.56\" r=\"18\"/>\n",
       "<circle clip-path=\"url(#clip8603)\" style=\"fill:#00a98d; stroke:none; fill-opacity:1\" cx=\"1331.67\" cy=\"737.56\" r=\"18\"/>\n",
       "<circle clip-path=\"url(#clip8603)\" style=\"fill:#000000; stroke:none; fill-opacity:1\" cx=\"1201.22\" cy=\"685.514\" r=\"18\"/>\n",
       "<circle clip-path=\"url(#clip8603)\" style=\"fill:#00a98d; stroke:none; fill-opacity:1\" cx=\"1201.22\" cy=\"685.514\" r=\"18\"/>\n",
       "<circle clip-path=\"url(#clip8603)\" style=\"fill:#000000; stroke:none; fill-opacity:1\" cx=\"1178.72\" cy=\"833.574\" r=\"18\"/>\n",
       "<circle clip-path=\"url(#clip8603)\" style=\"fill:#00a98d; stroke:none; fill-opacity:1\" cx=\"1178.72\" cy=\"833.574\" r=\"18\"/>\n",
       "<circle clip-path=\"url(#clip8603)\" style=\"fill:#000000; stroke:none; fill-opacity:1\" cx=\"1411.38\" cy=\"783.277\" r=\"18\"/>\n",
       "<circle clip-path=\"url(#clip8603)\" style=\"fill:#00a98d; stroke:none; fill-opacity:1\" cx=\"1411.38\" cy=\"783.277\" r=\"18\"/>\n",
       "<circle clip-path=\"url(#clip8603)\" style=\"fill:#000000; stroke:none; fill-opacity:1\" cx=\"1252.69\" cy=\"896.964\" r=\"18\"/>\n",
       "<circle clip-path=\"url(#clip8603)\" style=\"fill:#00a98d; stroke:none; fill-opacity:1\" cx=\"1252.69\" cy=\"896.964\" r=\"18\"/>\n",
       "<circle clip-path=\"url(#clip8603)\" style=\"fill:#000000; stroke:none; fill-opacity:1\" cx=\"1115.07\" cy=\"875.715\" r=\"18\"/>\n",
       "<circle clip-path=\"url(#clip8603)\" style=\"fill:#00a98d; stroke:none; fill-opacity:1\" cx=\"1115.07\" cy=\"875.715\" r=\"18\"/>\n",
       "<circle clip-path=\"url(#clip8603)\" style=\"fill:#000000; stroke:none; fill-opacity:1\" cx=\"1380.73\" cy=\"913.474\" r=\"18\"/>\n",
       "<circle clip-path=\"url(#clip8603)\" style=\"fill:#00a98d; stroke:none; fill-opacity:1\" cx=\"1380.73\" cy=\"913.474\" r=\"18\"/>\n",
       "<circle clip-path=\"url(#clip8603)\" style=\"fill:#000000; stroke:none; fill-opacity:1\" cx=\"1215.27\" cy=\"765.673\" r=\"18\"/>\n",
       "<circle clip-path=\"url(#clip8603)\" style=\"fill:#00a98d; stroke:none; fill-opacity:1\" cx=\"1215.27\" cy=\"765.673\" r=\"18\"/>\n",
       "<circle clip-path=\"url(#clip8603)\" style=\"fill:#000000; stroke:none; fill-opacity:1\" cx=\"1285.44\" cy=\"950.621\" r=\"18\"/>\n",
       "<circle clip-path=\"url(#clip8603)\" style=\"fill:#00a98d; stroke:none; fill-opacity:1\" cx=\"1285.44\" cy=\"950.621\" r=\"18\"/>\n",
       "<circle clip-path=\"url(#clip8603)\" style=\"fill:#000000; stroke:none; fill-opacity:1\" cx=\"1310.17\" cy=\"835.004\" r=\"18\"/>\n",
       "<circle clip-path=\"url(#clip8603)\" style=\"fill:#00a98d; stroke:none; fill-opacity:1\" cx=\"1310.17\" cy=\"835.004\" r=\"18\"/>\n",
       "<circle clip-path=\"url(#clip8603)\" style=\"fill:#000000; stroke:none; fill-opacity:1\" cx=\"1428.17\" cy=\"841.233\" r=\"18\"/>\n",
       "<circle clip-path=\"url(#clip8603)\" style=\"fill:#00a98d; stroke:none; fill-opacity:1\" cx=\"1428.17\" cy=\"841.233\" r=\"18\"/>\n",
       "<circle clip-path=\"url(#clip8603)\" style=\"fill:#000000; stroke:none; fill-opacity:1\" cx=\"1794.84\" cy=\"721.68\" r=\"18\"/>\n",
       "<circle clip-path=\"url(#clip8603)\" style=\"fill:#8e971d; stroke:none; fill-opacity:1\" cx=\"1794.84\" cy=\"721.68\" r=\"18\"/>\n",
       "<circle clip-path=\"url(#clip8603)\" style=\"fill:#000000; stroke:none; fill-opacity:1\" cx=\"1688.1\" cy=\"754.104\" r=\"18\"/>\n",
       "<circle clip-path=\"url(#clip8603)\" style=\"fill:#00a8cb; stroke:none; fill-opacity:1\" cx=\"1688.1\" cy=\"754.104\" r=\"18\"/>\n",
       "<circle clip-path=\"url(#clip8603)\" style=\"fill:#000000; stroke:none; fill-opacity:1\" cx=\"1707.52\" cy=\"673.431\" r=\"18\"/>\n",
       "<circle clip-path=\"url(#clip8603)\" style=\"fill:#00a8cb; stroke:none; fill-opacity:1\" cx=\"1707.52\" cy=\"673.431\" r=\"18\"/>\n",
       "<polygon clip-path=\"url(#clip8601)\" points=\"\n",
       "1706.93,298.131 1920.31,298.131 1920.31,116.691 1706.93,116.691 \n",
       "  \" fill=\"#ffffff\" fill-opacity=\"1\"/>\n",
       "<polyline clip-path=\"url(#clip8601)\" style=\"stroke:#000000; stroke-width:1; stroke-opacity:1; fill:none\" points=\"\n",
       "  1706.93,298.131 1920.31,298.131 1920.31,116.691 1706.93,116.691 1706.93,298.131 \n",
       "  \"/>\n",
       "<circle clip-path=\"url(#clip8601)\" style=\"fill:#000000; stroke:none; fill-opacity:1\" cx=\"1796.93\" cy=\"131.811\" r=\"6\"/>\n",
       "<circle clip-path=\"url(#clip8601)\" style=\"fill:#009af9; stroke:none; fill-opacity:1\" cx=\"1796.93\" cy=\"131.811\" r=\"5\"/>\n",
       "<g clip-path=\"url(#clip8601)\">\n",
       "<text style=\"fill:#000000; fill-opacity:1; font-family:Arial,Helvetica Neue,Helvetica,sans-serif; font-size:12; text-anchor:start;\" transform=\"rotate(0, 1866.93, 136.311)\" x=\"1866.93\" y=\"136.311\">0</text>\n",
       "</g>\n",
       "<circle clip-path=\"url(#clip8601)\" style=\"fill:#000000; stroke:none; fill-opacity:1\" cx=\"1796.93\" cy=\"146.931\" r=\"6\"/>\n",
       "<circle clip-path=\"url(#clip8601)\" style=\"fill:#e26f46; stroke:none; fill-opacity:1\" cx=\"1796.93\" cy=\"146.931\" r=\"5\"/>\n",
       "<g clip-path=\"url(#clip8601)\">\n",
       "<text style=\"fill:#000000; fill-opacity:1; font-family:Arial,Helvetica Neue,Helvetica,sans-serif; font-size:12; text-anchor:start;\" transform=\"rotate(0, 1866.93, 151.431)\" x=\"1866.93\" y=\"151.431\">1</text>\n",
       "</g>\n",
       "<circle clip-path=\"url(#clip8601)\" style=\"fill:#000000; stroke:none; fill-opacity:1\" cx=\"1796.93\" cy=\"162.051\" r=\"6\"/>\n",
       "<circle clip-path=\"url(#clip8601)\" style=\"fill:#3da44d; stroke:none; fill-opacity:1\" cx=\"1796.93\" cy=\"162.051\" r=\"5\"/>\n",
       "<g clip-path=\"url(#clip8601)\">\n",
       "<text style=\"fill:#000000; fill-opacity:1; font-family:Arial,Helvetica Neue,Helvetica,sans-serif; font-size:12; text-anchor:start;\" transform=\"rotate(0, 1866.93, 166.551)\" x=\"1866.93\" y=\"166.551\">2</text>\n",
       "</g>\n",
       "<circle clip-path=\"url(#clip8601)\" style=\"fill:#000000; stroke:none; fill-opacity:1\" cx=\"1796.93\" cy=\"177.171\" r=\"6\"/>\n",
       "<circle clip-path=\"url(#clip8601)\" style=\"fill:#c271d2; stroke:none; fill-opacity:1\" cx=\"1796.93\" cy=\"177.171\" r=\"5\"/>\n",
       "<g clip-path=\"url(#clip8601)\">\n",
       "<text style=\"fill:#000000; fill-opacity:1; font-family:Arial,Helvetica Neue,Helvetica,sans-serif; font-size:12; text-anchor:start;\" transform=\"rotate(0, 1866.93, 181.671)\" x=\"1866.93\" y=\"181.671\">3</text>\n",
       "</g>\n",
       "<circle clip-path=\"url(#clip8601)\" style=\"fill:#000000; stroke:none; fill-opacity:1\" cx=\"1796.93\" cy=\"192.291\" r=\"6\"/>\n",
       "<circle clip-path=\"url(#clip8601)\" style=\"fill:#ac8d18; stroke:none; fill-opacity:1\" cx=\"1796.93\" cy=\"192.291\" r=\"5\"/>\n",
       "<g clip-path=\"url(#clip8601)\">\n",
       "<text style=\"fill:#000000; fill-opacity:1; font-family:Arial,Helvetica Neue,Helvetica,sans-serif; font-size:12; text-anchor:start;\" transform=\"rotate(0, 1866.93, 196.791)\" x=\"1866.93\" y=\"196.791\">4</text>\n",
       "</g>\n",
       "<circle clip-path=\"url(#clip8601)\" style=\"fill:#000000; stroke:none; fill-opacity:1\" cx=\"1796.93\" cy=\"207.411\" r=\"6\"/>\n",
       "<circle clip-path=\"url(#clip8601)\" style=\"fill:#00a9ad; stroke:none; fill-opacity:1\" cx=\"1796.93\" cy=\"207.411\" r=\"5\"/>\n",
       "<g clip-path=\"url(#clip8601)\">\n",
       "<text style=\"fill:#000000; fill-opacity:1; font-family:Arial,Helvetica Neue,Helvetica,sans-serif; font-size:12; text-anchor:start;\" transform=\"rotate(0, 1866.93, 211.911)\" x=\"1866.93\" y=\"211.911\">5</text>\n",
       "</g>\n",
       "<circle clip-path=\"url(#clip8601)\" style=\"fill:#000000; stroke:none; fill-opacity:1\" cx=\"1796.93\" cy=\"222.531\" r=\"6\"/>\n",
       "<circle clip-path=\"url(#clip8601)\" style=\"fill:#ed5d92; stroke:none; fill-opacity:1\" cx=\"1796.93\" cy=\"222.531\" r=\"5\"/>\n",
       "<g clip-path=\"url(#clip8601)\">\n",
       "<text style=\"fill:#000000; fill-opacity:1; font-family:Arial,Helvetica Neue,Helvetica,sans-serif; font-size:12; text-anchor:start;\" transform=\"rotate(0, 1866.93, 227.031)\" x=\"1866.93\" y=\"227.031\">6</text>\n",
       "</g>\n",
       "<circle clip-path=\"url(#clip8601)\" style=\"fill:#000000; stroke:none; fill-opacity:1\" cx=\"1796.93\" cy=\"237.651\" r=\"6\"/>\n",
       "<circle clip-path=\"url(#clip8601)\" style=\"fill:#c68125; stroke:none; fill-opacity:1\" cx=\"1796.93\" cy=\"237.651\" r=\"5\"/>\n",
       "<g clip-path=\"url(#clip8601)\">\n",
       "<text style=\"fill:#000000; fill-opacity:1; font-family:Arial,Helvetica Neue,Helvetica,sans-serif; font-size:12; text-anchor:start;\" transform=\"rotate(0, 1866.93, 242.151)\" x=\"1866.93\" y=\"242.151\">7</text>\n",
       "</g>\n",
       "<circle clip-path=\"url(#clip8601)\" style=\"fill:#000000; stroke:none; fill-opacity:1\" cx=\"1796.93\" cy=\"252.771\" r=\"6\"/>\n",
       "<circle clip-path=\"url(#clip8601)\" style=\"fill:#00a98d; stroke:none; fill-opacity:1\" cx=\"1796.93\" cy=\"252.771\" r=\"5\"/>\n",
       "<g clip-path=\"url(#clip8601)\">\n",
       "<text style=\"fill:#000000; fill-opacity:1; font-family:Arial,Helvetica Neue,Helvetica,sans-serif; font-size:12; text-anchor:start;\" transform=\"rotate(0, 1866.93, 257.271)\" x=\"1866.93\" y=\"257.271\">8</text>\n",
       "</g>\n",
       "<circle clip-path=\"url(#clip8601)\" style=\"fill:#000000; stroke:none; fill-opacity:1\" cx=\"1796.93\" cy=\"267.891\" r=\"6\"/>\n",
       "<circle clip-path=\"url(#clip8601)\" style=\"fill:#8e971d; stroke:none; fill-opacity:1\" cx=\"1796.93\" cy=\"267.891\" r=\"5\"/>\n",
       "<g clip-path=\"url(#clip8601)\">\n",
       "<text style=\"fill:#000000; fill-opacity:1; font-family:Arial,Helvetica Neue,Helvetica,sans-serif; font-size:12; text-anchor:start;\" transform=\"rotate(0, 1866.93, 272.391)\" x=\"1866.93\" y=\"272.391\">9</text>\n",
       "</g>\n",
       "<circle clip-path=\"url(#clip8601)\" style=\"fill:#000000; stroke:none; fill-opacity:1\" cx=\"1796.93\" cy=\"283.011\" r=\"6\"/>\n",
       "<circle clip-path=\"url(#clip8601)\" style=\"fill:#00a8cb; stroke:none; fill-opacity:1\" cx=\"1796.93\" cy=\"283.011\" r=\"5\"/>\n",
       "<g clip-path=\"url(#clip8601)\">\n",
       "<text style=\"fill:#000000; fill-opacity:1; font-family:Arial,Helvetica Neue,Helvetica,sans-serif; font-size:12; text-anchor:start;\" transform=\"rotate(0, 1866.93, 287.511)\" x=\"1866.93\" y=\"287.511\">10</text>\n",
       "</g>\n",
       "</svg>\n"
      ]
     },
     "execution_count": 156,
     "metadata": {},
     "output_type": "execute_result"
    }
   ],
   "source": [
    "Y = tsne(C, 2, 50,1000, 20.0)\n",
    "scatter(Y[:,1], Y[:,2],  group=char_group;\n",
    "    markersize=20, size=(2000,1000))"
   ]
  },
  {
   "cell_type": "code",
   "execution_count": null,
   "metadata": {},
   "outputs": [],
   "source": []
  },
  {
   "cell_type": "markdown",
   "metadata": {},
   "source": [
    "## Clustering"
   ]
  },
  {
   "cell_type": "code",
   "execution_count": 190,
   "metadata": {},
   "outputs": [
    {
     "data": {
      "text/plain": [
       "show_cluster (generic function with 1 method)"
      ]
     },
     "execution_count": 190,
     "metadata": {},
     "output_type": "execute_result"
    }
   ],
   "source": [
    "using Clustering\n",
    "\n",
    "function show_cluster(res)\n",
    "    for cluster in unique(assignments(res))\n",
    "        for id in 1:nlabel(characters)\n",
    "            if assignments(res)[id]==cluster\n",
    "                println(char_group[id], \"\\t\", char_name(id))\n",
    "            end\n",
    "        end\n",
    "        println(\"-------------------------------\")\n",
    "    end\n",
    "end"
   ]
  },
  {
   "cell_type": "code",
   "execution_count": 191,
   "metadata": {},
   "outputs": [
    {
     "name": "stdout",
     "output_type": "stream",
     "text": [
      "1\tMyriel\n",
      "1\tMlle.Baptistine\n",
      "1\tMme.Magloire\n",
      "1\tCountessdeLo\n",
      "1\tCravatte\n",
      "2\tLabarre\n",
      "2\tValjean\n",
      "3\tMarguerite\n",
      "2\tMme.deR\n",
      "2\tIsabeau\n",
      "2\tGervais\n",
      "3\tTholomyes\n",
      "3\tListolier\n",
      "3\tFameuil\n",
      "3\tBlacheville\n",
      "3\tFavourite\n",
      "3\tDahlia\n",
      "3\tZephine\n",
      "3\tFantine\n",
      "4\tMme.Thenardier\n",
      "4\tThenardier\n",
      "5\tCosette\n",
      "4\tJavert\n",
      "0\tFauchelevent\n",
      "2\tBamatabois\n",
      "3\tPerpetue\n",
      "2\tSimplice\n",
      "2\tScaufflaire\n",
      "2\tWoman1\n",
      "2\tJudge\n",
      "2\tChampmathieu\n",
      "2\tBrevet\n",
      "2\tChenildieu\n",
      "2\tCochepaille\n",
      "4\tPontmercy\n",
      "4\tEponine\n",
      "5\tWoman2\n",
      "0\tMotherInnocent\n",
      "7\tJondrette\n",
      "8\tGavroche\n",
      "5\tGillenormand\n",
      "5\tMagnon\n",
      "5\tMlle.Gillenormand\n",
      "4\tGueulemer\n",
      "4\tBabet\n",
      "4\tClaquesous\n",
      "4\tMontparnasse\n",
      "5\tToussaint\n",
      "4\tBrujon\n",
      "-------------------------------\n",
      "1\tNapoleon\n",
      "1\tChamptercier\n",
      "6\tBoulatruelle\n",
      "4\tAnzelma\n",
      "7\tMme.Burgon\n",
      "5\tLt.Gillenormand\n",
      "5\tBaronessT\n",
      "8\tEnjolras\n",
      "-------------------------------\n",
      "1\tGeborand\n",
      "1\tCount\n",
      "1\tOldMan\n",
      "0\tGribier\n",
      "5\tMme.Pontmercy\n",
      "5\tMlle.Vaubois\n",
      "8\tMarius\n",
      "8\tMabeuf\n",
      "8\tCombeferre\n",
      "8\tProuvaire\n",
      "8\tFeuilly\n",
      "8\tCourfeyrac\n",
      "8\tBahorel\n",
      "8\tBossuet\n",
      "8\tJoly\n",
      "8\tGrantaire\n",
      "9\tMotherPlutarch\n",
      "10\tChild1\n",
      "10\tChild2\n",
      "8\tMme.Hucheloup\n",
      "-------------------------------\n"
     ]
    }
   ],
   "source": [
    "res = affinityprop(pairwise(CosineDist(), C'))\n",
    "show_cluster(res)"
   ]
  },
  {
   "cell_type": "code",
   "execution_count": 194,
   "metadata": {},
   "outputs": [
    {
     "name": "stdout",
     "output_type": "stream",
     "text": [
      "1\tMyriel\n",
      "1\tMme.Magloire\n",
      "2\tValjean\n",
      "2\tMme.deR\n",
      "2\tIsabeau\n",
      "4\tThenardier\n",
      "4\tJavert\n",
      "2\tBamatabois\n",
      "2\tJudge\n",
      "2\tBrevet\n",
      "2\tChenildieu\n",
      "2\tCochepaille\n",
      "4\tPontmercy\n",
      "4\tEponine\n",
      "5\tWoman2\n",
      "5\tMlle.Gillenormand\n",
      "4\tGueulemer\n",
      "4\tBabet\n",
      "4\tClaquesous\n",
      "4\tMontparnasse\n",
      "-------------------------------\n",
      "1\tNapoleon\n",
      "1\tCravatte\n",
      "6\tBoulatruelle\n",
      "4\tAnzelma\n",
      "5\tLt.Gillenormand\n",
      "5\tBaronessT\n",
      "4\tBrujon\n",
      "-------------------------------\n",
      "1\tMlle.Baptistine\n",
      "2\tLabarre\n",
      "3\tMarguerite\n",
      "2\tGervais\n",
      "5\tCosette\n",
      "0\tFauchelevent\n",
      "3\tPerpetue\n",
      "2\tSimplice\n",
      "2\tScaufflaire\n",
      "2\tWoman1\n",
      "2\tChampmathieu\n",
      "0\tMotherInnocent\n",
      "5\tGillenormand\n",
      "5\tMagnon\n",
      "5\tToussaint\n",
      "-------------------------------\n",
      "1\tCountessdeLo\n",
      "1\tGeborand\n",
      "1\tChamptercier\n",
      "0\tGribier\n",
      "-------------------------------\n",
      "1\tCount\n",
      "-------------------------------\n",
      "1\tOldMan\n",
      "5\tMlle.Vaubois\n",
      "-------------------------------\n",
      "3\tTholomyes\n",
      "3\tFantine\n",
      "4\tMme.Thenardier\n",
      "-------------------------------\n",
      "3\tListolier\n",
      "3\tFameuil\n",
      "3\tBlacheville\n",
      "3\tFavourite\n",
      "3\tDahlia\n",
      "3\tZephine\n",
      "-------------------------------\n",
      "7\tJondrette\n",
      "-------------------------------\n",
      "7\tMme.Burgon\n",
      "5\tMme.Pontmercy\n",
      "9\tMotherPlutarch\n",
      "10\tChild1\n",
      "10\tChild2\n",
      "-------------------------------\n",
      "8\tGavroche\n",
      "8\tMarius\n",
      "8\tMabeuf\n",
      "8\tEnjolras\n",
      "8\tCombeferre\n",
      "8\tProuvaire\n",
      "8\tFeuilly\n",
      "8\tCourfeyrac\n",
      "8\tBahorel\n",
      "8\tBossuet\n",
      "8\tJoly\n",
      "8\tGrantaire\n",
      "8\tMme.Hucheloup\n",
      "-------------------------------\n"
     ]
    }
   ],
   "source": [
    "res = kmeans(collect(C'), length(unique(char_group)))\n",
    "show_cluster(res)"
   ]
  },
  {
   "cell_type": "code",
   "execution_count": null,
   "metadata": {},
   "outputs": [],
   "source": []
  }
 ],
 "metadata": {
  "kernelspec": {
   "display_name": "Julia 0.7.0",
   "language": "julia",
   "name": "julia-0.7"
  },
  "language_info": {
   "file_extension": ".jl",
   "mimetype": "application/julia",
   "name": "julia",
   "version": "0.7.0"
  }
 },
 "nbformat": 4,
 "nbformat_minor": 2
}
