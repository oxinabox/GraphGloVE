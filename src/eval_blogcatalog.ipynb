{
 "cells": [
  {
   "cell_type": "code",
   "execution_count": 86,
   "metadata": {},
   "outputs": [],
   "source": [
    "using Pkg\n",
    "pkg\"activate ..\""
   ]
  },
  {
   "cell_type": "code",
   "execution_count": 87,
   "metadata": {},
   "outputs": [],
   "source": [
    "using DataDeps"
   ]
  },
  {
   "cell_type": "code",
   "execution_count": 88,
   "metadata": {},
   "outputs": [
    {
     "data": {
      "text/plain": [
       "DataDep{Nothing,String,typeof(DataDeps.fetch_http),typeof(unpack)}(\"BlogCatalog\", \"http://socialcomputing.asu.edu/uploads/1252092625/BlogCatalog-dataset.zip\", nothing, DataDeps.fetch_http, DataDeps.unpack, \"Authors: Nitin Agarwal+, Xufei Wang*, Huan Liu*\\nWebsite: http://socialcomputing.asu.edu/datasets/BlogCatalog \\n        \\n### Data Set Information:\\n\\n1. nodes.csv: it's the file of all the users. This file works as a dictionary of all the users in this data set. It's useful for fast reference. It contains all the node ids used in the dataset.\\n2. edges.csv :  this is the friendship network among the bloggers. The blogger's friends are represented using edges. Here is an example.\\n1,2\\nThis means blogger with id \\\"1\\\" is friend with blogger id \\\"2\\\".\\n\\n### Attribute Information:\\nThis is the data set crawled on July, 2009 from BlogCatalog ( http://www.blogcatalog.com ). BlogCatalog is a social blog directory website. This contains the friendship network crawled. For easier understanding, all the contents are organized in CSV file format.\\n\\n#### Basic statistics\\nNumber of bloggers : 88,784\\nNumber of friendship pairs: 4,186,390\\n        \\nPlease cite the paper:\\nNitin Agarwal, Huan Liu, Sudheendra Murthy, Arunabha Sen, and Xufei Wang. \\\"A Social Identity Approach to Identify Familiar Strangers in a Social Network\\\", 3rd International AAAI Conference on Weblogs and Social Media (ICWSM09), pp. 2 - 9, May 17-20, 2009. San Jose, California. \\n        \\nPlease cite the repository:\\nR. Zafarani and H. Liu, (2009). Social Computing Data Repository at ASU [http://socialcomputing.asu.edu]. Tempe, AZ: Arizona State University, School of Computing, Informatics and Decision Systems Engineering. \\n\")"
      ]
     },
     "execution_count": 88,
     "metadata": {},
     "output_type": "execute_result"
    }
   ],
   "source": [
    "register(DataDep(\"BlogCatalog\",\n",
    "        \"\"\"\n",
    "Authors: Nitin Agarwal+, Xufei Wang*, Huan Liu*\n",
    "Website: http://socialcomputing.asu.edu/datasets/BlogCatalog \n",
    "        \n",
    "### Data Set Information:\n",
    "\n",
    "1. nodes.csv: it's the file of all the users. This file works as a dictionary of all the users in this data set. It's useful for fast reference. It contains all the node ids used in the dataset.\n",
    "2. edges.csv :  this is the friendship network among the bloggers. The blogger's friends are represented using edges. Here is an example.\n",
    "1,2\n",
    "This means blogger with id \"1\" is friend with blogger id \"2\".\n",
    "\n",
    "### Attribute Information:\n",
    "This is the data set crawled on July, 2009 from BlogCatalog ( http://www.blogcatalog.com ). BlogCatalog is a social blog directory website. This contains the friendship network crawled. For easier understanding, all the contents are organized in CSV file format.\n",
    "\n",
    "#### Basic statistics\n",
    "Number of bloggers : 88,784\n",
    "Number of friendship pairs: 4,186,390\n",
    "        \n",
    "Please cite the paper:\n",
    "Nitin Agarwal, Huan Liu, Sudheendra Murthy, Arunabha Sen, and Xufei Wang. \"A Social Identity Approach to Identify Familiar Strangers in a Social Network\", 3rd International AAAI Conference on Weblogs and Social Media (ICWSM09), pp. 2 - 9, May 17-20, 2009. San Jose, California. \n",
    "        \n",
    "Please cite the repository:\n",
    "R. Zafarani and H. Liu, (2009). Social Computing Data Repository at ASU [http://socialcomputing.asu.edu]. Tempe, AZ: Arizona State University, School of Computing, Informatics and Decision Systems Engineering. \n",
    "\"\"\",\n",
    "\"http://socialcomputing.asu.edu/uploads/1252092625/BlogCatalog-dataset.zip\",\n",
    "post_fetch_method=unpack\n",
    "))"
   ]
  },
  {
   "cell_type": "code",
   "execution_count": 89,
   "metadata": {},
   "outputs": [],
   "source": [
    "using LightGraphs"
   ]
  },
  {
   "cell_type": "code",
   "execution_count": 90,
   "metadata": {},
   "outputs": [
    {
     "data": {
      "text/plain": [
       "{88784, 2180555} undirected simple Int64 graph"
      ]
     },
     "execution_count": 90,
     "metadata": {},
     "output_type": "execute_result"
    }
   ],
   "source": [
    "nodes = parse.(Int,collect(eachline(datadep\"BlogCatalog/BlogCatalog-dataset/data/nodes.csv\")))\n",
    "graph= PathGraph(length(nodes))\n",
    "for line in eachline(datadep\"BlogCatalog/BlogCatalog-dataset/data/edges.csv\")\n",
    "    src, dest = parse.(Int, split(line,\",\"))\n",
    "    add_edge!(graph, src, dest)\n",
    "end\n",
    "graph"
   ]
  },
  {
   "cell_type": "code",
   "execution_count": 104,
   "metadata": {},
   "outputs": [
    {
     "data": {
      "text/plain": [
       "color_clusters (generic function with 2 methods)"
      ]
     },
     "execution_count": 104,
     "metadata": {},
     "output_type": "execute_result"
    }
   ],
   "source": [
    "using NBInclude\n",
    "@nbinclude(\"utils.ipynb\")"
   ]
  },
  {
   "cell_type": "code",
   "execution_count": 93,
   "metadata": {},
   "outputs": [
    {
     "data": {
      "text/plain": [
       "nodeGLoVE (generic function with 2 methods)"
      ]
     },
     "execution_count": 93,
     "metadata": {},
     "output_type": "execute_result"
    }
   ],
   "source": [
    "@nbinclude(\"core.ipynb\")"
   ]
  },
  {
   "cell_type": "code",
   "execution_count": 94,
   "metadata": {},
   "outputs": [],
   "source": [
    "W = (Float32.(adjacency_matrix(graph)));\n"
   ]
  },
  {
   "cell_type": "code",
   "execution_count": 105,
   "metadata": {},
   "outputs": [
    {
     "name": "stdout",
     "output_type": "stream",
     "text": [
      " 30.135259 seconds (661.03 k allocations: 84.883 MiB, 0.13% gc time)\n"
     ]
    },
    {
     "data": {
      "text/plain": [
       "88784×88784 SparseMatrixCSC{Float32,Int64} with 4361110 stored entries:\n",
       "  [2    ,     1]  =  0.00833333\n",
       "  [3    ,     1]  =  0.00869565\n",
       "  [4    ,     1]  =  0.000465116\n",
       "  [5    ,     1]  =  0.00239808\n",
       "  [6    ,     1]  =  0.00191205\n",
       "  [7    ,     1]  =  0.00131579\n",
       "  [8    ,     1]  =  0.000300842\n",
       "  [9    ,     1]  =  0.000193874\n",
       "  [1    ,     2]  =  0.125\n",
       "  [3    ,     2]  =  0.00869565\n",
       "  [4    ,     2]  =  0.000465116\n",
       "  [7    ,     2]  =  0.00131579\n",
       "  ⋮\n",
       "  [88781, 88780]  =  0.333333\n",
       "  [904  , 88781]  =  0.000590667\n",
       "  [88780, 88781]  =  0.333333\n",
       "  [88782, 88781]  =  0.333333\n",
       "  [5014 , 88782]  =  0.004\n",
       "  [88781, 88782]  =  0.333333\n",
       "  [88783, 88782]  =  0.333333\n",
       "  [228  , 88783]  =  0.0075188\n",
       "  [88782, 88783]  =  0.333333\n",
       "  [88784, 88783]  =  0.5\n",
       "  [6595 , 88784]  =  0.00273973\n",
       "  [88783, 88784]  =  0.333333"
      ]
     },
     "execution_count": 105,
     "metadata": {},
     "output_type": "execute_result"
    }
   ],
   "source": [
    "@time prob_norm!(W)"
   ]
  },
  {
   "cell_type": "code",
   "execution_count": null,
   "metadata": {},
   "outputs": [],
   "source": [
    "@time X = cooccurance_matrix(W, 5, 0.25, 0.25)"
   ]
  },
  {
   "cell_type": "code",
   "execution_count": null,
   "metadata": {},
   "outputs": [],
   "source": [
    "C,V = nodeGLoVE(X, 128; time_limit=24*60*60)"
   ]
  },
  {
   "cell_type": "code",
   "execution_count": null,
   "metadata": {},
   "outputs": [],
   "source": []
  }
 ],
 "metadata": {
  "kernelspec": {
   "display_name": "Julia 0.7.0",
   "language": "julia",
   "name": "julia-0.7"
  },
  "language_info": {
   "file_extension": ".jl",
   "mimetype": "application/julia",
   "name": "julia",
   "version": "0.7.0"
  }
 },
 "nbformat": 4,
 "nbformat_minor": 2
}
